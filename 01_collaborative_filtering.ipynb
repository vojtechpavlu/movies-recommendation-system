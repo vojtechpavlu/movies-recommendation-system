{
 "cells": [
  {
   "cell_type": "markdown",
   "id": "2b6b7458-05d9-417c-9b0d-8a1237bf2c8e",
   "metadata": {},
   "source": [
    "# Collaborative Filtering\n",
    "\n"
   ]
  },
  {
   "cell_type": "markdown",
   "id": "0e8645f5-7622-430e-990b-70e99378395f",
   "metadata": {},
   "source": [
    "## Zadání problému\n",
    "\n",
    "V této ukázce bychom chtěli doporučovat filmy jen na základě žánrů k těmto přiřazených. Cílem tedy je nalézt filmy, které jsou si co do žánrového (kategoriálního) přiřazení nejpodobnější."
   ]
  },
  {
   "cell_type": "markdown",
   "id": "d5a60563-f102-4e8b-aa18-b189f206d727",
   "metadata": {},
   "source": [
    "## Načtení dat\n",
    "\n",
    "První fází je načtení zdrojových dat, která budeme chtít zpracovávat. Vstupní data jsou ve formátu `json` coby seznam položek o následujících atributech:\n",
    "- `_id` typu `str` (unikátní identifikátor záznamu filmu)\n",
    "- `name` typu `str` (název filmu)\n",
    "- `year` typu `int` (rok natočení filmu)\n",
    "- `genres` typu `str` (seznam žánrů filmu oddělený znakem lomítka `/`)\n",
    "- `csfdUrl` typu `str` (reference na ČSFD) "
   ]
  },
  {
   "cell_type": "code",
   "execution_count": 1,
   "id": "f8e3c727-4685-4b10-a874-03a53cdc95d3",
   "metadata": {},
   "outputs": [],
   "source": [
    "import json\n",
    "import random\n",
    "from dataclasses import dataclass"
   ]
  },
  {
   "cell_type": "code",
   "execution_count": 2,
   "id": "2199686d-304f-4bcc-aa75-9e5c0e8f3179",
   "metadata": {},
   "outputs": [],
   "source": [
    "def load_file(file_path: str):\n",
    "    with open(file_path) as file:\n",
    "        data = json.load(file)\n",
    "        file.close()\n",
    "        return data\n",
    "\n",
    "movies_data = load_file(\"./data/movies.json\")\n",
    "ratings_data = load_file(\"./data/ratings.json\")"
   ]
  },
  {
   "cell_type": "code",
   "execution_count": 3,
   "id": "99b052a0-0df2-47bd-a221-ea01a81fc9e6",
   "metadata": {},
   "outputs": [
    {
     "data": {
      "text/plain": [
       "[{'_id': '64d2a7963b7afeb6a7ff6b70',\n",
       "  'name': 'Vykoupení z věznice Shawshank',\n",
       "  'year': 1994,\n",
       "  'genres': 'Drama / Krimi / Vězení',\n",
       "  'csfdUrl': '2294-vykoupeni-z-veznice-shawshank'},\n",
       " {'_id': '64d2a7f53b7afeb6a7ff6b77',\n",
       "  'name': 'Nedotknutelní',\n",
       "  'year': 2011,\n",
       "  'genres': 'Komedie / Drama / Životopisný',\n",
       "  'csfdUrl': '306731-nedotknutelni'},\n",
       " {'_id': '64d2b5d6aacb468a3ff1a9a8',\n",
       "  'name': 'Kmotr',\n",
       "  'year': 1972,\n",
       "  'genres': 'Drama / Krimi',\n",
       "  'csfdUrl': '1644-kmotr'}]"
      ]
     },
     "execution_count": 3,
     "metadata": {},
     "output_type": "execute_result"
    }
   ],
   "source": [
    "movies_data[:3]"
   ]
  },
  {
   "cell_type": "code",
   "execution_count": 4,
   "id": "8db8732e-5c8c-406e-9034-3bc6368e778d",
   "metadata": {},
   "outputs": [
    {
     "data": {
      "text/plain": [
       "[{'_id': '650592e51cca00cecf6b25a8',\n",
       "  'rating': 4,\n",
       "  'movie': '64f32aae3f4d83c88a192374',\n",
       "  'user': '64f50be367062b1d8990f945'},\n",
       " {'_id': '650592f11cca00cecf6b25af',\n",
       "  'rating': 4,\n",
       "  'movie': '64f270b0375ee58978e1d120',\n",
       "  'user': '64f50be367062b1d8990f945'},\n",
       " {'_id': '650592fa1cca00cecf6b25b6',\n",
       "  'rating': 2,\n",
       "  'movie': '64f4ccd7a5e05287b7cde545',\n",
       "  'user': '64f50be367062b1d8990f945'}]"
      ]
     },
     "execution_count": 4,
     "metadata": {},
     "output_type": "execute_result"
    }
   ],
   "source": [
    "ratings_data[:3]"
   ]
  },
  {
   "cell_type": "markdown",
   "id": "35a12729-9956-480c-a277-2af541f3626e",
   "metadata": {},
   "source": [
    "Pro prvotní manipulaci s daty využijme definice třídy, která nám usnadní a zpřehlední naše úvodní transformace. Využijme k tomu třídního dekorátoru `dataclass` z balíčku `dataclasses`."
   ]
  },
  {
   "cell_type": "code",
   "execution_count": 5,
   "id": "3f81c438-845e-47b7-9c21-7478dded8c3b",
   "metadata": {},
   "outputs": [
    {
     "name": "stdout",
     "output_type": "stream",
     "text": [
      "Movie(movie_id='64d2a7963b7afeb6a7ff6b70', name='Vykoupení z věznice Shawshank', year=1994, genres=['Drama', 'Krimi', 'Vězení'])\n",
      "Movie(movie_id='64d2a7f53b7afeb6a7ff6b77', name='Nedotknutelní', year=2011, genres=['Komedie', 'Drama', 'Životopisný'])\n",
      "Movie(movie_id='64d2b5d6aacb468a3ff1a9a8', name='Kmotr', year=1972, genres=['Drama', 'Krimi'])\n"
     ]
    }
   ],
   "source": [
    "@dataclass\n",
    "class Movie:\n",
    "    movie_id: str\n",
    "    name: str\n",
    "    year: int\n",
    "    genres: list[str]\n",
    "\n",
    "    def is_of_genre(self, genre: str) -> bool:\n",
    "        return genre in self.genres\n",
    "\n",
    "\n",
    "movies = []\n",
    "\n",
    "def process_genres(genres_str: str) -> list[str]:\n",
    "    return [genre.strip() for genre in genres_str.split(\"/\")]\n",
    "\n",
    "for movie in movies_data:\n",
    "    movies.append(\n",
    "        Movie(\n",
    "            movie_id=movie[\"_id\"],\n",
    "            name=movie[\"name\"],\n",
    "            year=movie[\"year\"],\n",
    "            genres=process_genres(movie[\"genres\"])\n",
    "        )\n",
    "    )\n",
    "\n",
    "for movie in movies[:3]:\n",
    "    print(movie)"
   ]
  },
  {
   "cell_type": "code",
   "execution_count": 6,
   "id": "b85b7506-4dc0-489c-9bdd-1245bcfd5ec5",
   "metadata": {},
   "outputs": [
    {
     "name": "stdout",
     "output_type": "stream",
     "text": [
      "Rating(rating_id='650592e51cca00cecf6b25a8', movie_id='64f32aae3f4d83c88a192374', user_id='64f50be367062b1d8990f945', rating=4)\n",
      "Rating(rating_id='650592f11cca00cecf6b25af', movie_id='64f270b0375ee58978e1d120', user_id='64f50be367062b1d8990f945', rating=4)\n",
      "Rating(rating_id='650592fa1cca00cecf6b25b6', movie_id='64f4ccd7a5e05287b7cde545', user_id='64f50be367062b1d8990f945', rating=2)\n"
     ]
    }
   ],
   "source": [
    "@dataclass\n",
    "class Rating:\n",
    "    rating_id: str\n",
    "    movie_id: str\n",
    "    user_id: str\n",
    "    rating: int\n",
    "\n",
    "    def is_of_user(self, user_id: str) -> bool:\n",
    "        return self.user_id == user_id\n",
    "\n",
    "    def is_of_movie(self, movie_id: str) -> bool:\n",
    "        return self.movie_id == movie_id\n",
    "\n",
    "    def means_unseen(self) -> bool:\n",
    "        \"\"\"Jestli hodnocení znamená, že uživatel film neviděl.\"\"\"\n",
    "        return self.rating == -1\n",
    "\n",
    "\n",
    "ratings = []\n",
    "\n",
    "for rating in ratings_data:\n",
    "    ratings.append(\n",
    "        Rating(\n",
    "            rating_id=rating[\"_id\"],\n",
    "            movie_id=rating[\"movie\"],\n",
    "            user_id=rating[\"user\"],\n",
    "            rating=rating[\"rating\"]\n",
    "        )\n",
    "    )\n",
    "\n",
    "for rating in ratings[:3]:\n",
    "    print(rating)"
   ]
  },
  {
   "cell_type": "markdown",
   "id": "0574d0d1-311a-45db-9f62-4759fa5e307b",
   "metadata": {},
   "source": [
    "Vždy se hodí mít i možnost rychlého přístupu k těmto datům pomocí filtrování a hledání. V praxi se k tomu obvykle využívá optimalizovaných knihoven jako je `numpy` a `pandas`; my takto hluboko zatím nepůjdeme."
   ]
  },
  {
   "cell_type": "code",
   "execution_count": 7,
   "id": "ebc89d28-d318-49cd-ba5a-99de14ea277a",
   "metadata": {},
   "outputs": [],
   "source": [
    "def ratings_of_user(user_id: str, ratings_collection: list[Rating]) -> list[Rating]:\n",
    "    \"\"\"Přístupová funkce, která se pokusí vyfiltrovat hodnocení daného uživatele\"\"\"\n",
    "    return [rating for rating in ratings_collection if rating.user_id == user_id]\n",
    "\n",
    "\n",
    "def ratings_of_movie(movie_id: str, ratings_collection: list[Rating]) -> list[Rating]:\n",
    "    \"\"\"Přístupová metoda, která se pokusí vyfiltrovat hodnocení daného filmu.\"\"\"\n",
    "    return [rating for rating in ratings_collection if rating.movie_id == movie_id]\n",
    "\n",
    "\n",
    "def user_rating_of_movie(movie_id: str, user_id: str, ratings_collection: list[Rating]) -> Rating:\n",
    "    \"\"\"Pokusí se dohledat hodnocení daného filmu od daného uživatele.\"\"\"\n",
    "    for rating in ratings_collection:\n",
    "        if rating.movie_id == movie_id and rating.user_id == user_id:\n",
    "            return rating"
   ]
  },
  {
   "cell_type": "markdown",
   "id": "cee68e35-89f4-4ffa-b3c2-a5a113ab9def",
   "metadata": {},
   "source": [
    "## Čištění dat\n",
    "\n",
    "Před tím, než začneme skutečně něco s daty dělat, uvědomme si, že data nemáme kompletní. U tohoto typu dat nelze garantovat, že každý uživatel ohodnotil všechny filmy a (s tím související) že každý film byl dostatečně hodnocen.\n",
    "\n",
    "V našem pohledu je také dobré zdůraznit, že neviděl-li uživatel film, je to pro nás (alespoň prozatím) známka toho, že _\"film nehodnotil\"_ - aktuálně pro nás tato skutečnost nepřináší přílišnou hodnotu. V budoucnu je to ale silný indikátor, že právě takový film bychom mohli doporučit primárně.\n",
    "\n",
    "K tomu, jak se zbavit prázdných hodnot vede vícero cest. Uveďme si příklady:\n",
    "- Ostranění záznamů - záznam, ve kterém něco chybí smažeme\n",
    "- Doplnění náhodné hodnoty - záznam, ve kterém něco chybí, se pokusíme doplnit náhodnými hodnotami z povoleného rozsahu\n",
    "- Doplnění průměrné hodnoty - chybějící hodnoty se pokusíme doplnit průměrnými hodnotami z daného sloupečku\n",
    "- Doplnění nejčastější hodnoty - chybějící hodnoty doplníme nejčastější hodnotou z daného sloupečku\n",
    "- Vážená průměrná hodnota - chybějící hodnotu doplníme průměrnou hodnotou váženou ke sledované skupině\n",
    "\n",
    "\n",
    "### Jaká data nám chybí?\n",
    "\n",
    "Máme zde problém, že někteří uživatelé neohodnotili vše. Dále pak že ne každý uživatel viděl všechny filmy a ohodnotil tyto pak s hodnotou `-1`. Další (a celkem zřejmý fakt) je, že některé filmy mají hodnocení pouze od malé skupiny uživatelů. Úkoly, které tedy doporučuji udělat:\n",
    "- Odstranit uživatele, kteří mají méně než 20 % platných hodnocení (polovinu filmů neviděli nebo se neobtěžovali ohodnotit). Takový uživatel nám bez dalšího většího přidaného úsilí příliš nepomůže. S tím souvisí samozřejmě odstranit z dat i k nim přiřazená existující hodnocení, aby nám pak nedělaly problémy (konzistence).\n",
    "- Odstranit filmy, které mají méně než 20 % platných hodnocení a pochopitelně opět k nim vytvořená existující hodnocení (přijdeme o velké množství informace ale o to budeme přesnější).\n",
    "- Dopočítat chybějící hodnocení\n",
    "   - Neviděl film (`-1`)\n",
    "   - Neohodnotil film (neexistuje záznam v databázi - neobtěžoval se)\n",
    "\n",
    "\n",
    "Všimněme si, že tento krok jsme při doporučování na základě obsahu vůbec dělat nemuseli - předpokládá se, že data uvedená coby atributy alternativ jsou již kompletní. Práce s uživatelskými daty jsou však vždy třeba zpracovat podstatně důsledněji."
   ]
  },
  {
   "cell_type": "markdown",
   "id": "2fff98ec-98ec-49f9-aea2-a18c61582bc2",
   "metadata": {},
   "source": [
    "---"
   ]
  },
  {
   "cell_type": "markdown",
   "id": "8c2217b5-8724-4a6d-bab8-876cfb0def1b",
   "metadata": {},
   "source": [
    "Zde si předpočítáme pomocné proměnné"
   ]
  },
  {
   "cell_type": "code",
   "execution_count": 8,
   "id": "42e705cc-d6d5-4bdb-a6fd-7c48976625fc",
   "metadata": {},
   "outputs": [],
   "source": [
    "# Získejme unikátní uživatelská ID\n",
    "user_ids = list(set([rating.user_id for rating in ratings]))\n",
    "\n",
    "# Počet filmů\n",
    "n_movies = len(movies)"
   ]
  },
  {
   "cell_type": "markdown",
   "id": "e5b03837-491f-444b-90d4-2f80d9a83066",
   "metadata": {},
   "source": [
    "Nyní si stanovme kvóty pro filtrování"
   ]
  },
  {
   "cell_type": "code",
   "execution_count": 9,
   "id": "3a5cc9cc-b989-4f5d-b784-336430be7400",
   "metadata": {},
   "outputs": [],
   "source": [
    "# Minimální kvóta pro platná uživatelských hodnocení\n",
    "user_ratings_requirement = 0.2\n",
    "\n",
    "# Minimální kvóta pro platná hodnocení filmů\n",
    "movie_ratings_requirement = 0.2"
   ]
  },
  {
   "cell_type": "code",
   "execution_count": 10,
   "id": "c8319a55-59aa-412d-b1e3-f65792bc161a",
   "metadata": {},
   "outputs": [
    {
     "name": "stdout",
     "output_type": "stream",
     "text": [
      "65071c950358f547b0248bac\n",
      "65229906f81f149a378012c7\n"
     ]
    }
   ],
   "source": [
    "users_to_be_removed = []\n",
    "\n",
    "for user_id in user_ids:\n",
    "    user_ratings = ratings_of_user(user_id, ratings)\n",
    "    valid_user_ratings = [r for r in user_ratings if r.rating > 0]\n",
    "    \n",
    "    if len(valid_user_ratings) < n_movies * user_ratings_requirement:\n",
    "        users_to_be_removed.append(user_id)\n",
    "        print(user_id)\n",
    "\n",
    "\n",
    "for removable_user in users_to_be_removed:\n",
    "    # Vyfiltruj seznamy tak, aby nebyl záznam o daném uživateli\n",
    "    user_ids = [user_id for user_id in user_ids if user_id != removable_user]\n",
    "    ratings = [rating for rating in ratings if rating.user_id != removable_user]"
   ]
  },
  {
   "cell_type": "code",
   "execution_count": 11,
   "id": "6b93b066-c61c-4d34-b829-df40749028d6",
   "metadata": {},
   "outputs": [
    {
     "name": "stdout",
     "output_type": "stream",
     "text": [
      "Movie(movie_id='64f273f8375ee58978e1d15c', name='Město bohů', year=2002, genres=['Krimi', 'Drama'])\n",
      "Movie(movie_id='64f27853375ee58978e1d224', name='Čas probuzení', year=1990, genres=['Drama', 'Životopisný'])\n",
      "Movie(movie_id='64f27867375ee58978e1d228', name='25 let neviny', year=2020, genres=['Drama', 'Vězení'])\n",
      "Movie(movie_id='64f4d03aa5e05287b7cde589', name='Skrytá čísla', year=2016, genres=['Životopisný', 'Historický', 'Drama', 'Věda'])\n"
     ]
    }
   ],
   "source": [
    "movies_to_be_removed = []\n",
    "\n",
    "for movie in movies:\n",
    "    movie_ratings = ratings_of_movie(movie.movie_id, ratings)\n",
    "    valid_movie_ratings = [r for r in movie_ratings if r.rating > 0]\n",
    "\n",
    "    if len(valid_movie_ratings) < len(user_ids) * movie_ratings_requirement:\n",
    "        movies_to_be_removed.append(movie.movie_id)\n",
    "        print(movie)\n",
    "\n",
    "\n",
    "for removable_movie in movies_to_be_removed:\n",
    "    movies = [m for m in movies if m.movie_id != removable_movie]\n",
    "    ratings = [r for r in ratings if r.movie_id != removable_movie]"
   ]
  },
  {
   "cell_type": "markdown",
   "id": "5f6c5049-f91d-4055-b6ea-34351f8c4133",
   "metadata": {},
   "source": [
    "### Doplnění chybějících dat\n",
    "\n",
    "Pro ilustraci bychom mohli využít možnosti dopočítat chybějící hodnocení trochu komplexněji. Abychom zachovali jak informaci o hodnocení uživatele (zda dává převážně negativní či pozitivní hodnocení), tak i o tom, jak je film hodnocen průměrně, můžeme zařadit všechna hodnocení daného uživatele a hodnocení daného filmu do jednoho dlouhého seznamu. Z toho již spočítáme aritmetický průměr snadno, jak jsme zvyklí. \n",
    "\n",
    "To provedeme pro všechna chybející hodnocení (tedy neexistuje záznam v databázi), tak pro hodnocení o tom, že uživatel film neviděl."
   ]
  },
  {
   "cell_type": "code",
   "execution_count": 12,
   "id": "a9bfc344-8d5f-40d0-a6c2-44d334d856a8",
   "metadata": {},
   "outputs": [],
   "source": [
    "def calc_average_rating(ratings_to_calc: list[Rating]) -> float:\n",
    "    \"\"\"Vypočítá průměrné hodnocení z dodané skupiny hodnocení\"\"\"\n",
    "    return sum(r.rating for r in ratings_to_calc) / len(ratings_to_calc)\n",
    "\n",
    "for user_id in user_ids:\n",
    "    user_ratings = ratings_of_user(user_id, ratings)\n",
    "    seen_ratings = [r for r in user_ratings if not r.means_unseen()]\n",
    "    not_seen_ratings = [r for r in user_ratings if r.means_unseen()]\n",
    "\n",
    "    for unseen in not_seen_ratings:\n",
    "        movie_ratings = [r for r in ratings_of_movie(unseen.movie_id, ratings) if not r.means_unseen()]\n",
    "        unseen.rating = calc_average_rating(seen_ratings + movie_ratings)"
   ]
  },
  {
   "cell_type": "code",
   "execution_count": 13,
   "id": "0554ab3e-f251-42b7-85bf-6b5d0a72b933",
   "metadata": {},
   "outputs": [],
   "source": [
    "for idx, user_id in enumerate(user_ids):\n",
    "    for movie in movies:\n",
    "        user_rating = user_rating_of_movie(movie.movie_id, user_id, ratings)\n",
    "        if not user_rating:\n",
    "            user_ratings = ratings_of_user(user_id, ratings)\n",
    "            movie_ratings = ratings_of_movie(movie.movie_id, ratings)\n",
    "            ratings.append(Rating(\n",
    "                rating_id=f\"generated-{idx}\",\n",
    "                movie_id=movie.movie_id,\n",
    "                user_id=user_id,\n",
    "                rating=calc_average_rating(user_ratings + movie_ratings)\n",
    "            ))"
   ]
  },
  {
   "cell_type": "markdown",
   "id": "fd58c0c0-6c2e-44e4-a966-0e1c221baad3",
   "metadata": {},
   "source": [
    "Nyní si ověřme, že každý uživatel má přiřazeno hodnocení k nějakému filmu (byť vygenerované)."
   ]
  },
  {
   "cell_type": "code",
   "execution_count": 14,
   "id": "57e95525-af94-4440-bb50-0279df1f28cf",
   "metadata": {},
   "outputs": [],
   "source": [
    "for user_id in user_ids:\n",
    "    user_ratings = ratings_of_user(user_id, ratings)\n",
    "    if len(user_ratings) != len(movies):\n",
    "        print(user_id, len(user_ratings))"
   ]
  },
  {
   "cell_type": "markdown",
   "id": "76a28692-b4c2-472f-b5b3-165cabf90aaf",
   "metadata": {},
   "source": [
    "### Mechanismy výpočtu podobnosti\n",
    "\n",
    "Stejně jako v příkladě na filtrování na základě obsahu se podívejme na metriky podobnosti, které budeme používat. Kokrétně tedy na vzdálenost ***euklidovskou*** a ***kosínovou***."
   ]
  },
  {
   "cell_type": "markdown",
   "id": "986074ce-90d0-489e-a1db-18e6292a7056",
   "metadata": {},
   "source": [
    "Euklidovská vzdálenost je základní metrikou, kterou můžeme použít pro počítání rozdílů mezi dvěma body v `n`-dimenzionálním prostoru. Využijeme následující vzorec, který lze snadno odvodit z pythagorovy věty pro použití v `n`-dimenzionálním prostoru:\n",
    "\n",
    "$$d_{euklid} = \\sqrt{(x_1 - y_1)^2 + (x_2 - y_2)^2 + \\ldots + (x_n - y_n)^2}$$\n",
    "\n",
    "\n",
    "Pomocí tohoto vzorce jsme schopni spočítat, že některé filmy jsou si podobné na základě žánrů."
   ]
  },
  {
   "cell_type": "code",
   "execution_count": 15,
   "id": "2f07d1d6-6cc7-4b67-a143-fcd226ee8069",
   "metadata": {},
   "outputs": [],
   "source": [
    "def euclidean_distance(point1: tuple[float], point2: tuple[float]) -> float:\n",
    "    \"\"\"Spočítá euklidovskou vzdálenost mezi dvěma mnohadimenzionálními body.\n",
    "    Pokud body nejsou stejné dimenzionality, vyhazuje chybu.\n",
    "    \"\"\"\n",
    "    if len(point1) != len(point2):\n",
    "        raise ValueError(f\"Body musí být stejné dimenzionality: {len(point1)} != {len(point2)}\")\n",
    "\n",
    "    differences = []\n",
    "    # Pro každou dimenzi\n",
    "    for idx, value_in_dim in enumerate(point1):\n",
    "        # Přidej absolutní rozdíl mezi hodnotami v dimenzi\n",
    "        differences.append(abs(value_in_dim - point2[idx]))\n",
    "\n",
    "    # Převeď absolutní rozdíly na své druhé mocniny\n",
    "    squared_differences = [diff ** 2 for diff in differences]\n",
    "\n",
    "    # Odmocni umocněné rozdíly\n",
    "    return sum(squared_differences) ** 0.5"
   ]
  },
  {
   "cell_type": "markdown",
   "id": "a5f128ee-3d5f-4002-9b35-d8afcc8c3930",
   "metadata": {},
   "source": [
    "Kosínová vzdálenost je druhou významnou metrikou, která nám dokáže spočítátat podobnost dvou bodů v `n`-dimenzionálním prostoru. Pracuje s úhlem, který dva dané vektory vzájemně svírají.\n",
    "\n",
    "Vzorec pro kosínovu větu říká, že je-li úhel svíraný mezi danými dvěma vektory nulový, návratová hodnota bude `1`. Samotný vzorec pak vypadá následovně:\n",
    "\n",
    "$$cos(\\phi) = \\frac{\\vec{u} \\cdot \\vec{v}}{|\\vec{u}| \\cdot |\\vec{v}|}$$\n",
    "\n",
    "\n",
    "My z tohoto pravidla vyjdeme a trochu si vzoreček pro potřeby výpočtu této vzdálenosti (_i.e._ podobnosti) upravíme:\n",
    "\n",
    "$$d_{cosine} = 1 - \\frac{\\vec{u} \\cdot \\vec{v}}{|\\vec{u}| \\cdot |\\vec{v}|}$$\n",
    "\n",
    "\n",
    "Tím zajistíme, že čím menší velikost svíraného úhlu, tím více se výsledná hodnota blíží nule. Zároveň zde máme z povahy řešeného problému garantováno, že nedojde k extrémním situacím:\n",
    "- pracujeme v I. kvadrantu (svíraný úhel nemůže být větší než 90°)\n",
    "- neexistuje film bez přiřazeného žánru (neexistuje tedy nulový vektor a tedy nenastane situace, kdy bychom dělili nulou)\n",
    "\n",
    "Dané body můžeme chápat jako vektory od počátku k danému bodu. Tím získáme výhodu, že jsou-li vektory lineárně závislé (ve zkratce že leží na stejné přímce, resp. $k \\cdot \\vec{u} = \\vec{v}$), bude vzdálenost mezi nimi chápána jako 0 (tedy totožné). Samozřejmě zde můžeme zobecnit tezi na *\"čím menší úhel dva libovolně velké vektory svírají, tím jsou si podobnější\"*."
   ]
  },
  {
   "cell_type": "code",
   "execution_count": 16,
   "id": "51a8422f-4aeb-4633-9be2-81b0715d471b",
   "metadata": {},
   "outputs": [],
   "source": [
    "def cosine_distance(u: tuple[float], v: tuple[float]) -> float:\n",
    "    \"\"\"Spočítá kosínovou vzdálenost mezi dvěma mnohadimenzionálními vektory.\n",
    "    Pokud vektory nejsou stejné dimenzionality, vyhazuje chybu. Stejně tak pokud\n",
    "    je některý z vektorů tzv. nulový (o nulové délce) - dělili bychom nulou.\n",
    "    \"\"\"\n",
    "    if len(u) != len(v):\n",
    "        raise ValueError(f\"Vektory musí být stejné dimenzionality: {len(u)} != {len(v)}\")\n",
    "\n",
    "    # Nejdříve si spočteme čitatele - součin dvou vektorů (tzv. dot product)\n",
    "    dot_product = sum(u_n * v_n for u_n, v_n in zip(u, v))\n",
    "\n",
    "    # Připravíme si pomocnou funkci pro výpočet délky vektoru (pomocí pythagorovy věty)\n",
    "    vector_lenght = lambda vector: sum(x ** 2 for x in vector) ** 0.5\n",
    "\n",
    "    u_len = vector_lenght(u)\n",
    "    v_len = vector_lenght(v)\n",
    "\n",
    "    if u_len == 0 or v_len == 0:\n",
    "        raise ValueError(f\"Byl dodán nulový vektor\")\n",
    "\n",
    "    return 1 - (dot_product / (u_len * v_len))"
   ]
  },
  {
   "cell_type": "markdown",
   "id": "7872aef3-5d22-4bac-b7fa-38f7b28fd5b6",
   "metadata": {},
   "source": [
    "## Strategie User-User Matrix\n",
    "\n",
    "Tato metoda je postavena na hledání podobností mezi uživateli systému. Běžně se řeší pomocí matice, my si to celé trochu zjednodušíme. V tomto případě budeme hledat jen vzájemně nejbližší uživatele dle svých hodnocení.\n",
    "\n",
    "Každého uživatele si opět převedeme do podoby, kdy pro každé hodnocení daného uživatele vybereme jen a pouze dané číslo coby hodnocení. Z této sekvence pak budeme hledat nejbližší sousedy. Budeme tedy mít pro každého uživatele n-tici obsahující ID uživatele (pro zpětnou referenci) a dlouhou posloupnost hodnocení (stabilně seřazenou dle filmů). Uvědomme si, že tímto nám vznikne `n`-rozměrný prostor, ve kterém se `n` rovná počtu filmů (v našem případě zhruba 300). To by pro větší datasety mohlo být již náročnější sousto."
   ]
  },
  {
   "cell_type": "code",
   "execution_count": 17,
   "id": "4ba7f150-0e48-4c66-8865-fe470c73c149",
   "metadata": {},
   "outputs": [],
   "source": [
    "def couple_items(items_to_be_coupled: list) -> list[tuple]:\n",
    "    \"\"\"Vytvoří jednosměrné dvojice z dodaného seznamu položek.\"\"\"\n",
    "    result_tuples = []\n",
    "    \n",
    "    for idx, u1 in enumerate(items_to_be_coupled[:-1]):\n",
    "        for u2 in items_to_be_coupled[idx + 1:]:\n",
    "            result_tuples.append((u1, u2))\n",
    "\n",
    "    return result_tuples"
   ]
  },
  {
   "cell_type": "code",
   "execution_count": 18,
   "id": "cc364277-6127-4d05-a72a-17d0f8ea857b",
   "metadata": {},
   "outputs": [],
   "source": [
    "users_as_points = []\n",
    "\n",
    "for user_id in user_ids:\n",
    "\n",
    "    # Seřazeny filmy podle ID filmu aby bylo garantováno pořadí\n",
    "    user_movie_ratings = sorted(\n",
    "        [rating for rating in ratings_of_user(user_id, ratings)],\n",
    "        key=lambda rating: rating.movie_id\n",
    "    )\n",
    "\n",
    "    users_as_points.append((\n",
    "        user_id,\n",
    "        *[rating.rating for rating in user_movie_ratings]\n",
    "    ))      "
   ]
  },
  {
   "cell_type": "markdown",
   "id": "a257f9be-ffdf-4a67-8aec-1fd52837d16d",
   "metadata": {},
   "source": [
    "Nyní si spárujme naše uživatele reprezentovatelné jako body v n-rozměrném prostoru."
   ]
  },
  {
   "cell_type": "code",
   "execution_count": 19,
   "id": "6f676d5f-eafb-4f42-95ff-6a422c93a8ff",
   "metadata": {},
   "outputs": [],
   "source": [
    "user_couples = couple_items(users_as_points)"
   ]
  },
  {
   "cell_type": "markdown",
   "id": "a542e707-4a7d-4f77-81cd-aeb46a89ca7a",
   "metadata": {},
   "source": [
    "Zkusme to nejdříve s euklidovskou vzdáleností"
   ]
  },
  {
   "cell_type": "code",
   "execution_count": 20,
   "id": "40f5a33f-e3bb-4d49-8811-79861c73e200",
   "metadata": {},
   "outputs": [],
   "source": [
    "user_couple_distances_euclidean = []\n",
    "\n",
    "for user_couple in user_couples:\n",
    "    user_couple_distances_euclidean.append((\n",
    "        # Uložme si ID daných uživatelů\n",
    "        user_couple[0][0],\n",
    "        user_couple[1][0],\n",
    "\n",
    "        # Spočítejme euklidovskou vzdálenost mezi body\n",
    "        # reprezentujícími dané uživatele\n",
    "        euclidean_distance(user_couple[0][1:], user_couple[1][1:])\n",
    "    ))"
   ]
  },
  {
   "cell_type": "code",
   "execution_count": 21,
   "id": "696b7a45-3ba9-43df-a391-8991ac2c07b2",
   "metadata": {},
   "outputs": [
    {
     "data": {
      "text/plain": [
       "[('6514515a5920516a950ecdf9', '651451605920516a950ece17', 9.909193420997306),\n",
       " ('6514515c5920516a950ece08', '6514515a5920516a950ecdf9', 10.43915658621663),\n",
       " ('6514515c5920516a950ece08', '651451605920516a950ece17', 10.8752116333766),\n",
       " ('650b5b157c75dd6fd5b1babd', '6514515a5920516a950ecdf9', 11.365673842348022),\n",
       " ('6514515e5920516a950ece0e', '6514515a5920516a950ecdf9', 11.39846362366874),\n",
       " ('6514515e5920516a950ece0e', '651451605920516a950ece17', 11.638651620417862),\n",
       " ('6514515a5920516a950ecdf9', '6522a278f81f149a37801335', 11.79484336273568),\n",
       " ('651451605920516a950ece17', '651451595920516a950ecdf6', 11.928929922914657),\n",
       " ('6507260e2050e9e1f928cab5', '6514515a5920516a950ecdf9', 11.976427873556743),\n",
       " ('6522a53bf81f149a37801344', '651451625920516a950ece23', 12.045242937561595),\n",
       " ('651451615920516a950ece1a', '651451625920516a950ece23', 12.059403817989217),\n",
       " ('650b5b157c75dd6fd5b1babd', '6522a278f81f149a37801335', 12.113462696630688),\n",
       " ('6522a53bf81f149a37801344', '651451615920516a950ece1a', 12.146597789993363),\n",
       " ('6514515a5920516a950ecdf9', '651451595920516a950ecdf6', 12.325058545980648),\n",
       " ('650b5b157c75dd6fd5b1babd', '651451625920516a950ece23', 12.351350717342843),\n",
       " ('651451625920516a950ece20', '651451625920516a950ece23', 12.410419209318533),\n",
       " ('6514515d5920516a950ece0b', '651451625920516a950ece23', 12.512291977142036),\n",
       " ('6514515c5920516a950ece08', '6522a278f81f149a37801335', 12.604716383860733),\n",
       " ('6514515d5920516a950ece0b', '651451595920516a950ecdf6', 12.731407194217045),\n",
       " ('6522a53bf81f149a37801344', '6522a278f81f149a37801335', 12.733611753425317)]"
      ]
     },
     "execution_count": 21,
     "metadata": {},
     "output_type": "execute_result"
    }
   ],
   "source": [
    "# Vyber 20 nejbližších\n",
    "sorted(user_couple_distances_euclidean, key=lambda couple: couple[2])[:20]"
   ]
  },
  {
   "cell_type": "code",
   "execution_count": 22,
   "id": "77f7830e-420a-4eee-8492-4a12b94b0008",
   "metadata": {},
   "outputs": [
    {
     "data": {
      "text/plain": [
       "[('65229b71f81f149a378012cc', '6506c5e1ecd687f1fffbd5b8', 23.44998759706008),\n",
       " ('6514515e5920516a950ece11', '6505bf0394002f289a99d34f', 20.80913171399081),\n",
       " ('650b3b90adb3b7afd6cddbfb', '650b2cfd7237ff293a039982', 17.475942232714548),\n",
       " ('65229cc5f81f149a378012e5', '651451595920516a950ecdf3', 25.475355042416716),\n",
       " ('6514515d5920516a950ece0b', '65229b71f81f149a378012cc', 17.76310775381422),\n",
       " ('6506c5e1ecd687f1fffbd5b8', '651451625920516a950ece20', 21.556163121457967),\n",
       " ('6514515a5920516a950ecdf9', '6506c5e1ecd687f1fffbd5b8', 21.826012767563352),\n",
       " ('6514515c5920516a950ece08', '6514515b5920516a950ecdff', 20.47314177780506),\n",
       " ('65229cc5f81f149a378012e5', '6505bf4994002f289a99d362', 16.936746502239714),\n",
       " ('651451595920516a950ecdf3', '651451625920516a950ece23', 24.94469647445887),\n",
       " ('6505cf9694002f289a99d3b0', '6505bf4994002f289a99d362', 21.914738376469273),\n",
       " ('6522a3a2f81f149a3780133a', '6514515b5920516a950ecdff', 19.302207104534723),\n",
       " ('6522a278f81f149a37801335', '651451595920516a950ecdf6', 14.833097478211227),\n",
       " ('6505bf0394002f289a99d34f', '651451605920516a950ece17', 14.09178203377691),\n",
       " ('6505cf2e94002f289a99d3ab', '650727672050e9e1f928cac8', 30.93039619078681),\n",
       " ('6514515a5920516a950ecdfc', '65229b71f81f149a378012cc', 35.55213806749365),\n",
       " ('6514515f5920516a950ece14', '6506c5e1ecd687f1fffbd5b8', 21.046345601909977),\n",
       " ('6507260e2050e9e1f928cab5', '650727672050e9e1f928cac8', 19.48356924047396),\n",
       " ('6514515c5920516a950ece05', '650727672050e9e1f928cac8', 28.456437706221806),\n",
       " ('650b5b157c75dd6fd5b1babd', '651451615920516a950ece1a', 13.299418769654107)]"
      ]
     },
     "execution_count": 22,
     "metadata": {},
     "output_type": "execute_result"
    }
   ],
   "source": [
    "# Vyber 20 náhodných\n",
    "random.sample(user_couple_distances_euclidean, 20)"
   ]
  },
  {
   "cell_type": "markdown",
   "id": "a917e657-5945-4e5d-b51d-677c33144c4a",
   "metadata": {},
   "source": [
    "### Jaké je praktické použití?\n",
    "\n",
    "V praxi si lze v zásadě představit několik strategií (které pochopitelně ovlivňují i vypočítávaný výstup):\n",
    "- **Pravidelné napočítávání** - např. každou noc se napočítávají takovéto výsledky; každému uživateli se pak doporučují produkty podle nejpodobnějších (nejbližších) uživatelů\n",
    "- **Real-time počítání** - při každém dotazu se vypočítá aktuální nejbližší uživatel (z tohoto pohledu bychom však asi i tento dataset chápali jako velmi obtížný)\n",
    "- **Stanovení refernčních archetypů uživatelů** - pravidelně se stanovují typičtí uživatelé, kteří reprezentují nějaký uživatelský segment (více najdete pod pojmem *cluster analysis* - povíme si později). Uživatelé se mají tendenci sdružovat do shluků a tedy této vlastnosti lze využívat. Pak by v oblasti naší úlohy mohlo stačit identifikovat těžiště takových shluků uživatelů a přiřadit Vás k němu. Mohli bychom si to představit třeba nějak takhle:\n",
    "   - Macho divák (převažují akční filmy, rychlá auta a thrillery, nikdy nedávají dobré hodnocení muzikálům)\n",
    "   - Geek (milují sci-fi a fantasy, nepotrpí si na horory)\n",
    "   - Romantik (muzikály, dobrodružné a především romantické filmy; nesnáší horory)\n",
    "   - Veselá kopa (absurdní komedie miluje, zvládne i komediální akční či animované filmy)\n",
    "   - ...\n",
    "\n",
    "\n",
    "Nyní si zkusme ilustrovat první případ - jste evidovaný uživatel a chcete najít nejbližší doporučení. "
   ]
  },
  {
   "cell_type": "code",
   "execution_count": 23,
   "id": "70ac371d-b5ad-451d-b29a-61fb6299a39b",
   "metadata": {},
   "outputs": [],
   "source": [
    "def closest_users(user_id: str, n: int = 5) -> list[tuple[str, str, float]]:\n",
    "    \"\"\"Pokusí se vyhledat `n` nejpodobněji hodnotících uživatelů\"\"\"\n",
    "    # Zkrácený zápis\n",
    "    couples = user_couple_distances_euclidean\n",
    "    filtered = [couple for couple in couples if couple[0] == user_id or couple[1] == user_id]\n",
    "    return sorted(filtered, key=lambda couple: couple[2])[:n]"
   ]
  },
  {
   "cell_type": "code",
   "execution_count": 24,
   "id": "e3df4077-e3e2-4667-9c2a-45cfb620f5b7",
   "metadata": {},
   "outputs": [
    {
     "data": {
      "text/plain": [
       "[('6514515a5920516a950ecdfc', '6522a53bf81f149a37801344', 30.437462577262647),\n",
       " ('6514515a5920516a950ecdfc', '651451625920516a950ece23', 30.539325983725288),\n",
       " ('6514515a5920516a950ecdfc', '650da95f16593c65ac62d605', 30.786728630497915),\n",
       " ('6514515a5920516a950ecdfc', '6514515f5920516a950ece14', 30.82562676869674),\n",
       " ('6514515a5920516a950ecdfc', '6514515b5920516a950ecdff', 31.191651631814025),\n",
       " ('6514515a5920516a950ecdfc', '6522a3fdf81f149a3780133f', 31.612578505465578),\n",
       " ('6522a3a2f81f149a3780133a', '6514515a5920516a950ecdfc', 32.12589735874451),\n",
       " ('6514515a5920516a950ecdfc', '650727672050e9e1f928cac8', 32.24616240387768),\n",
       " ('6514515a5920516a950ecdfc', '6514515e5920516a950ece11', 32.361126764565306),\n",
       " ('65229cc5f81f149a378012e5', '6514515a5920516a950ecdfc', 32.45192851445802)]"
      ]
     },
     "execution_count": 24,
     "metadata": {},
     "output_type": "execute_result"
    }
   ],
   "source": [
    "closest_users(\"6514515a5920516a950ecdfc\", 10)"
   ]
  },
  {
   "cell_type": "markdown",
   "id": "26122ff7-4ff1-494d-bb10-92cf83507de8",
   "metadata": {},
   "source": [
    "Nyní proveďme to samé se vzdáleností kosínovou"
   ]
  },
  {
   "cell_type": "code",
   "execution_count": 25,
   "id": "1bffba6d-ff07-4169-b200-93a6dabd4bd4",
   "metadata": {},
   "outputs": [],
   "source": [
    "user_couple_distances_cosine = []\n",
    "\n",
    "for user_couple in user_couples:\n",
    "    user_couple_distances_cosine.append((\n",
    "        # Uložme si ID daných uživatelů\n",
    "        user_couple[0][0],\n",
    "        user_couple[1][0],\n",
    "\n",
    "        # Spočítejme kosínovou vzdálenost mezi vektory\n",
    "        # reprezentujícími dané uživatele\n",
    "        cosine_distance(user_couple[0][1:], user_couple[1][1:])\n",
    "    ))"
   ]
  },
  {
   "cell_type": "code",
   "execution_count": 26,
   "id": "503cb52f-e5a7-460a-95c7-64a67460bfa7",
   "metadata": {},
   "outputs": [
    {
     "data": {
      "text/plain": [
       "[('6514515a5920516a950ecdf9', '651451605920516a950ece17', 0.00818530334161982),\n",
       " ('6514515c5920516a950ece08',\n",
       "  '6514515a5920516a950ecdf9',\n",
       "  0.009503487445327363),\n",
       " ('6514515c5920516a950ece08',\n",
       "  '651451605920516a950ece17',\n",
       "  0.009724810960486052),\n",
       " ('6514515a5920516a950ecdf9',\n",
       "  '651451625920516a950ece23',\n",
       "  0.009739932313826194),\n",
       " ('6514515e5920516a950ece0e', '6514515a5920516a950ecdf9', 0.00981530194128899),\n",
       " ('650b5b157c75dd6fd5b1babd',\n",
       "  '6514515a5920516a950ecdf9',\n",
       "  0.010201662718212212),\n",
       " ('651451605920516a950ece17',\n",
       "  '651451625920516a950ece23',\n",
       "  0.010329423354077272),\n",
       " ('6514515a5920516a950ecdf9',\n",
       "  '651451615920516a950ece1a',\n",
       "  0.010634938914453551),\n",
       " ('6514515e5920516a950ece0e', '651451605920516a950ece17', 0.01072133414099885),\n",
       " ('6514515a5920516a950ecdf9',\n",
       "  '6522a278f81f149a37801335',\n",
       "  0.010956414806312265)]"
      ]
     },
     "execution_count": 26,
     "metadata": {},
     "output_type": "execute_result"
    }
   ],
   "source": [
    "# Vyber 10 nejbližších\n",
    "sorted(user_couple_distances_cosine, key=lambda couple: couple[2])[:10]"
   ]
  },
  {
   "cell_type": "code",
   "execution_count": 27,
   "id": "0f5fcba2-d73b-4211-83cf-4c995593aae8",
   "metadata": {},
   "outputs": [
    {
     "data": {
      "text/plain": [
       "[('6505cf2e94002f289a99d3ab', '64f50be367062b1d8990f945', 0.1402586851896287),\n",
       " ('6514515d5920516a950ece0b',\n",
       "  '651451625920516a950ece23',\n",
       "  0.014622378272956538),\n",
       " ('65229cc5f81f149a378012e5', '64f50be367062b1d8990f945', 0.07185943540364359),\n",
       " ('6505cf9694002f289a99d3b0',\n",
       "  '651451595920516a950ecdf6',\n",
       "  0.037691973822133185),\n",
       " ('650da95f16593c65ac62d605', '64f50be367062b1d8990f945', 0.08777393795139032),\n",
       " ('650da95f16593c65ac62d605',\n",
       "  '6522a3fdf81f149a3780133f',\n",
       "  0.037272484152745644),\n",
       " ('650b5b157c75dd6fd5b1babd', '6514515b5920516a950ece02', 0.05859647881518393),\n",
       " ('65229b71f81f149a378012cc', '6522a278f81f149a37801335', 0.02195110767657449),\n",
       " ('652ba0b2b1d18a296fc3eca6', '6514515c5920516a950ece05', 0.08338333275648979),\n",
       " ('6514515a5920516a950ecdf9',\n",
       "  '6522a3fdf81f149a3780133f',\n",
       "  0.023267667399718972)]"
      ]
     },
     "execution_count": 27,
     "metadata": {},
     "output_type": "execute_result"
    }
   ],
   "source": [
    "# Vyber 10 náhodných\n",
    "random.sample(user_couple_distances_cosine, 10)"
   ]
  },
  {
   "cell_type": "markdown",
   "id": "4091626a-8aaa-4e46-87bc-df9ac214c8ed",
   "metadata": {},
   "source": [
    "## Strategie Item-Item"
   ]
  },
  {
   "cell_type": "code",
   "execution_count": 28,
   "id": "32c96263-3743-409e-a755-8370db0c4556",
   "metadata": {},
   "outputs": [
    {
     "data": {
      "text/plain": [
       "('Vykoupení z věznice Shawshank',\n",
       " 2,\n",
       " 5,\n",
       " 5,\n",
       " 5,\n",
       " 3,\n",
       " 3.9519309368261837,\n",
       " 5,\n",
       " 5,\n",
       " 4.2549962990377495,\n",
       " 3.7376710159283904,\n",
       " 4,\n",
       " 4,\n",
       " 3,\n",
       " 4,\n",
       " 5,\n",
       " 3.2141376241051614,\n",
       " 4,\n",
       " 4.275858485154953,\n",
       " 5,\n",
       " 4,\n",
       " 2,\n",
       " 5,\n",
       " 5,\n",
       " 5,\n",
       " 5,\n",
       " 3.6891191709844557,\n",
       " 3.671875185664617,\n",
       " 5,\n",
       " 5,\n",
       " 3.9087173543782066,\n",
       " 3.8883484995700375,\n",
       " 5,\n",
       " 4,\n",
       " 3.9955922219667612,\n",
       " 5,\n",
       " 5,\n",
       " 3.6836992702831735,\n",
       " 5,\n",
       " 5)"
      ]
     },
     "execution_count": 28,
     "metadata": {},
     "output_type": "execute_result"
    }
   ],
   "source": [
    "movies_as_points = []\n",
    "\n",
    "for movie in movies:\n",
    "    movie_ratings = ratings_of_movie(movie.movie_id, ratings)\n",
    "    sorted_data = sorted(movie_ratings, key=lambda rating: rating.user_id)\n",
    "    point_data = [rating.rating for rating in sorted_data]\n",
    "    movies_as_points.append((\n",
    "        movie.name,\n",
    "        *point_data\n",
    "    ))\n",
    "\n",
    "movies_as_points[0]"
   ]
  },
  {
   "cell_type": "code",
   "execution_count": 29,
   "id": "0588fc25-6a01-4ec9-b661-e16823d41597",
   "metadata": {},
   "outputs": [],
   "source": [
    "coupled_movies = couple_items(movies_as_points)"
   ]
  },
  {
   "cell_type": "code",
   "execution_count": 30,
   "id": "66b30342-3ced-487b-b9ae-a277aa686c26",
   "metadata": {},
   "outputs": [],
   "source": [
    "coupled_movies_euclidean = []\n",
    "\n",
    "for movie_couple in coupled_movies:\n",
    "    coupled_movies_euclidean.append((\n",
    "        movie_couple[0][0],\n",
    "        movie_couple[1][0],\n",
    "\n",
    "        euclidean_distance(movie_couple[0][1:], movie_couple[1][1:])\n",
    "    ))"
   ]
  },
  {
   "cell_type": "code",
   "execution_count": 31,
   "id": "478befdb-71c9-417c-858b-ed001c6120b6",
   "metadata": {},
   "outputs": [
    {
     "data": {
      "text/plain": [
       "[('L. A. - Přísně tajné', 'Obvyklí podezřelí', 1.746603208396551),\n",
       " ('Vynález zkázy', 'Pro pár dolarů navíc', 2.165240779945492),\n",
       " ('Uprchlík', 'Medvěd', 2.22525541063766),\n",
       " ('Butch Cassidy a Sundance Kid', 'Poslední skaut', 2.2909686010587347),\n",
       " ('Podraz', 'Škola základ života', 2.3835907069936186),\n",
       " ('Četa', 'Medvěd', 2.4048219813221254),\n",
       " ('Butch Cassidy a Sundance Kid', 'Motýlek', 2.4487508455963396),\n",
       " ('Poslední skaut', 'Ponorka', 2.4788963523998784),\n",
       " ('Obvyklí podezřelí', 'Prezident Blaník', 2.5053849215316877),\n",
       " ('Hlídač č. 47', 'Letec', 2.553126781781749),\n",
       " ('Obvyklí podezřelí', 'Medvěd', 2.6307388770870865),\n",
       " ('Americký gangster', 'Tropická bouře', 2.6481962145625997),\n",
       " ('Prezident Blaník', 'Medvěd', 2.652710098650573),\n",
       " ('Motýlek', 'Medvěd', 2.72774219369514),\n",
       " ('Prezident Blaník', 'Atentát', 2.7502567281047026),\n",
       " ('Butch Cassidy a Sundance Kid', 'Ponorka', 2.7618799885994223),\n",
       " ('Motýlek', 'Gauneři', 2.764357597864925),\n",
       " ('Casino', 'Pro pár dolarů navíc', 2.787263775557484),\n",
       " ('Kladivo na čarodějnice', 'Obvyklí podezřelí', 2.81043876395268),\n",
       " ('12 opic', 'Goldfinger', 2.8226880008383106)]"
      ]
     },
     "execution_count": 31,
     "metadata": {},
     "output_type": "execute_result"
    }
   ],
   "source": [
    "# Vyber 20 nejbližších\n",
    "sorted(coupled_movies_euclidean, key=lambda couple: couple[2])[:20]"
   ]
  },
  {
   "cell_type": "code",
   "execution_count": 32,
   "id": "fdf681d9-34e4-433c-abeb-ede777eb5bb5",
   "metadata": {},
   "outputs": [
    {
     "data": {
      "text/plain": [
       "[('Nedotknutelní', 'Já, padouch', 8.218893590986738),\n",
       " ('Život je krásný', 'Přednosta stanice', 6.501246028201765),\n",
       " ('L. A. - Přísně tajné', 'Medvěd', 3.7248417924069366),\n",
       " ('Hlídač č. 47', 'Whiplash', 4.9573922300842455),\n",
       " ('Captain Marvel', 'Občanský průkaz', 7.786851154695899),\n",
       " ('Gran Torino', 'Rain Man', 5.5943333235206625),\n",
       " ('Temný rytíř', 'Mariňák', 6.693337371018181),\n",
       " ('U pokladny stál...', 'Rok jedna', 5.926303852955756),\n",
       " ('Čistá duše', 'U pokladny stál...', 6.390755269358084),\n",
       " ('Dvanáct rozhněvaných mužů', 'Vrchní, prchni', 6.348271538901555),\n",
       " ('Casino', 'Mr. & Mrs. Smith', 6.940375212890305),\n",
       " ('Coco', 'Star Wars: Epizoda VI - Návrat Jediů', 6.79646450837165),\n",
       " ('Coco', 'Rocky', 8.344578539979498),\n",
       " ('Počátek', 'Život Briana', 7.496171515090434),\n",
       " ('Transformers', 'Lara Croft - Tomb Raider', 7.693635349044115),\n",
       " ('12 opic', 'Atentát', 3.959368898742413),\n",
       " ('Barbie', 'Záhada Blair Witch', 7.256542051578029),\n",
       " ('Star Wars: Epizoda IV - Nová naděje', 'Whiplash', 8.389856820239043),\n",
       " ('Marečku, podejte mi pero!', 'Bohemian Rhapsody', 7.123097894951625),\n",
       " ('Interstellar', 'Tropická bouře', 7.150896877489899)]"
      ]
     },
     "execution_count": 32,
     "metadata": {},
     "output_type": "execute_result"
    }
   ],
   "source": [
    "# Vyber 20 náhodných\n",
    "random.sample(coupled_movies_euclidean, 20)"
   ]
  },
  {
   "cell_type": "code",
   "execution_count": 33,
   "id": "0acb13d6-af71-4676-a189-a79c89f0b5c4",
   "metadata": {},
   "outputs": [],
   "source": [
    "coupled_movies_cosine = []\n",
    "\n",
    "for movie_couple in coupled_movies:\n",
    "    coupled_movies_cosine.append((\n",
    "        movie_couple[0][0],\n",
    "        movie_couple[1][0],\n",
    "\n",
    "        cosine_distance(movie_couple[0][1:], movie_couple[1][1:])\n",
    "    ))"
   ]
  },
  {
   "cell_type": "code",
   "execution_count": 34,
   "id": "d35bd28e-b2b7-4fea-9390-15a317d602fa",
   "metadata": {},
   "outputs": [
    {
     "data": {
      "text/plain": [
       "[('L. A. - Přísně tajné', 'Obvyklí podezřelí', 0.0026946970235649514),\n",
       " ('Vynález zkázy', 'Pro pár dolarů navíc', 0.004253525836561245),\n",
       " ('Uprchlík', 'Medvěd', 0.004477321183861793),\n",
       " ('Butch Cassidy a Sundance Kid', 'Poslední skaut', 0.004677895838930857),\n",
       " ('Podraz', 'Škola základ života', 0.004816624938865921),\n",
       " ('Butch Cassidy a Sundance Kid', 'Motýlek', 0.004909586683826461),\n",
       " ('Četa', 'Medvěd', 0.004951070581973527),\n",
       " ('Poslední skaut', 'Ponorka', 0.0049618447968151624),\n",
       " ('Hlídač č. 47', 'Letec', 0.005680581011252461),\n",
       " ('Obvyklí podezřelí', 'Prezident Blaník', 0.005775341424990588),\n",
       " ('Motýlek', 'Medvěd', 0.005791631146873422),\n",
       " ('Prezident Blaník', 'Atentát', 0.005921985042079192),\n",
       " ('Butch Cassidy a Sundance Kid', 'Ponorka', 0.006046581909566862),\n",
       " ('Americký gangster', 'Tropická bouře', 0.006224509823856916),\n",
       " ('Obvyklí podezřelí', 'Medvěd', 0.006376581777966739),\n",
       " ('Havel', 'Zátopek', 0.006540863570232203),\n",
       " ('Americká krása', 'Demolition Man', 0.006564268109616633),\n",
       " ('Prezident Blaník', 'Medvěd', 0.006564567753963635),\n",
       " ('Motýlek', 'Gauneři', 0.006569306908842165),\n",
       " ('U pokladny stál...', 'Přednosta stanice', 0.006620007452147525)]"
      ]
     },
     "execution_count": 34,
     "metadata": {},
     "output_type": "execute_result"
    }
   ],
   "source": [
    "# Vyber 20 nejbližších\n",
    "sorted(coupled_movies_cosine, key=lambda couple: couple[2])[:20]"
   ]
  },
  {
   "cell_type": "code",
   "execution_count": 35,
   "id": "7c4da2ad-e324-44ae-90b5-0b511cd1ed18",
   "metadata": {},
   "outputs": [
    {
     "data": {
      "text/plain": [
       "[('Americká krása', 'Nekonečný příběh', 0.034676539504116866),\n",
       " ('U pokladny stál...', 'The Avengers', 0.036112332946976355),\n",
       " ('Transformers', 'Hanebný pancharti', 0.05852885105925809),\n",
       " ('Kmotr II', 'Podfu(c)k', 0.03490396368234849),\n",
       " ('Dnes neumírej', 'Kill Bill', 0.032526689008544496),\n",
       " ('Marečku, podejte mi pero!', 'Čistá duše', 0.03529483985054893),\n",
       " ('Titanic', 'Muž na Měsíci', 0.06480509397310263),\n",
       " ('Spider-Man: Napříč paralelními světy',\n",
       "  'Na samotě u lesa',\n",
       "  0.060028103450549763),\n",
       " ('Pařba v Bangkoku', 'Zátopek', 0.05691848759016016),\n",
       " ('Příšerky s.r.o.', 'Teorie všeho', 0.051823521285630725),\n",
       " ('12 opic', 'Captain Marvel', 0.03782542763255958),\n",
       " ('Králova řeč', 'Neuvěřitelný Hulk', 0.0499476090954577),\n",
       " ('Dobrý Will Hunting', 'Čtyři pokoje', 0.01980794733120228),\n",
       " ('Smrt krásných srnců', 'Marťan', 0.04548467110836407),\n",
       " ('Star Trek X: Nemesis', 'Mariňák', 0.049249620125091376),\n",
       " ('Vykoupení z věznice Shawshank',\n",
       "  'Tenkrát v Hollywoodu',\n",
       "  0.020873813277982434),\n",
       " ('Dvanáct rozhněvaných mužů',\n",
       "  'Scary Movie: Děsnej biják',\n",
       "  0.042069301571859063),\n",
       " ('Ace Ventura: Zvířecí detektiv',\n",
       "  'Šifra mistra Leonarda',\n",
       "  0.059383112194855814),\n",
       " ('Šestý smysl', 'Avatar', 0.03082011039100241),\n",
       " ('Hotel Rwanda', 'Dannyho parťáci', 0.023508331151148032)]"
      ]
     },
     "execution_count": 35,
     "metadata": {},
     "output_type": "execute_result"
    }
   ],
   "source": [
    "# Vyber 20 náhodných\n",
    "random.sample(coupled_movies_cosine, 20)"
   ]
  }
 ],
 "metadata": {
  "kernelspec": {
   "display_name": "Python 3 (ipykernel)",
   "language": "python",
   "name": "python3"
  },
  "language_info": {
   "codemirror_mode": {
    "name": "ipython",
    "version": 3
   },
   "file_extension": ".py",
   "mimetype": "text/x-python",
   "name": "python",
   "nbconvert_exporter": "python",
   "pygments_lexer": "ipython3",
   "version": "3.10.12"
  }
 },
 "nbformat": 4,
 "nbformat_minor": 5
}
