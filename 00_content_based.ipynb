{
 "cells": [
  {
   "cell_type": "markdown",
   "id": "2b6b7458-05d9-417c-9b0d-8a1237bf2c8e",
   "metadata": {},
   "source": [
    "# Content-Based Filtering\n",
    "\n",
    "Filtrování možných doporučování na základě podobnosti obsahu je jedním ze základních principů doporučovacích systémů. Celou strategií je najít takové dvojice položek, které jsou si nejvíce podobné na základě k nim přiřazených atributů.\n",
    "\n",
    "Jako příklad bychom si mohli uvést následující tvrzení:\n",
    "\n",
    "`Chléb Benešov` s atributy `(700 g, potraviny, pečivo, chléb, moučné produkty)` bude jistě poměrně podobný položce `Chléb Šumava` s atributy `(1600 g, potraviny, pečivo, chléb, moučné produkty)`. Jistou podobnost bychom mohli najít i s `Bageta celozrnná` s atributy `(240 g, potraviny, pečivo, bageta, moučné produkty)`. \n",
    "\n",
    "Možná by nám dávalo smysl doporučovat i `Mléko` definované jako `(1 l, potraviny, mléčné výrobky)`. Nicméně bychom mezi těmito produkty neměli hledat podobnost s `Čistič myčky`, u kterého bychom měli přiřazeny příznaky `(150 ml, potřeby pro domácnost, kuchyně, čistící prostředky, potřeby na mytí nádobí)`.\n",
    "\n",
    "Otázkou pak je, jak hledat takto podobné dvojice položek, které většinou bývají reprezentovány převážně kategoriálními atributy. My se v této ukázce zaměříme na doporučování námi vybudované databáze hodnocení filmů na základě podobnosti mezi dvojicemi filmů přes jejich atributy."
   ]
  },
  {
   "cell_type": "markdown",
   "id": "0e8645f5-7622-430e-990b-70e99378395f",
   "metadata": {},
   "source": [
    "## Zadání problému\n",
    "\n",
    "V této ukázce bychom chtěli doporučovat filmy jen na základě žánrů k těmto přiřazených. Cílem tedy je nalézt filmy, které jsou si co do žánrového (kategoriálního) přiřazení nejpodobnější."
   ]
  },
  {
   "cell_type": "markdown",
   "id": "d5a60563-f102-4e8b-aa18-b189f206d727",
   "metadata": {},
   "source": [
    "## Načtení dat\n",
    "\n",
    "První fází je načtení zdrojových dat, která budeme chtít zpracovávat. Vstupní data jsou ve formátu `json` coby seznam položek o následujících atributech:\n",
    "- `_id` typu `str` (unikátní identifikátor záznamu filmu)\n",
    "- `name` typu `str` (název filmu)\n",
    "- `year` typu `int` (rok natočení filmu)\n",
    "- `genres` typu `str` (seznam žánrů filmu oddělený znakem lomítka `/`)\n",
    "- `csfdUrl` typu `str` (reference na ČSFD) "
   ]
  },
  {
   "cell_type": "code",
   "execution_count": 1,
   "id": "f8e3c727-4685-4b10-a874-03a53cdc95d3",
   "metadata": {},
   "outputs": [],
   "source": [
    "import json\n",
    "import random\n",
    "from dataclasses import dataclass"
   ]
  },
  {
   "cell_type": "code",
   "execution_count": 2,
   "id": "2199686d-304f-4bcc-aa75-9e5c0e8f3179",
   "metadata": {},
   "outputs": [],
   "source": [
    "def load_file(file_path: str):\n",
    "    with open(file_path) as file:\n",
    "        data = json.load(file)\n",
    "        file.close()\n",
    "        return data\n",
    "\n",
    "movies_data = load_file(\"./data/movies.json\")"
   ]
  },
  {
   "cell_type": "code",
   "execution_count": 3,
   "id": "99b052a0-0df2-47bd-a221-ea01a81fc9e6",
   "metadata": {},
   "outputs": [
    {
     "data": {
      "text/plain": [
       "[{'_id': '64d2a7963b7afeb6a7ff6b70',\n",
       "  'name': 'Vykoupení z věznice Shawshank',\n",
       "  'year': 1994,\n",
       "  'genres': 'Drama / Krimi / Vězení',\n",
       "  'csfdUrl': '2294-vykoupeni-z-veznice-shawshank'},\n",
       " {'_id': '64d2a7f53b7afeb6a7ff6b77',\n",
       "  'name': 'Nedotknutelní',\n",
       "  'year': 2011,\n",
       "  'genres': 'Komedie / Drama / Životopisný',\n",
       "  'csfdUrl': '306731-nedotknutelni'},\n",
       " {'_id': '64d2b5d6aacb468a3ff1a9a8',\n",
       "  'name': 'Kmotr',\n",
       "  'year': 1972,\n",
       "  'genres': 'Drama / Krimi',\n",
       "  'csfdUrl': '1644-kmotr'}]"
      ]
     },
     "execution_count": 3,
     "metadata": {},
     "output_type": "execute_result"
    }
   ],
   "source": [
    "movies_data[:3]"
   ]
  },
  {
   "cell_type": "markdown",
   "id": "35a12729-9956-480c-a277-2af541f3626e",
   "metadata": {},
   "source": [
    "Pro prvotní manipulaci s daty využijme definice třídy, která nám usnadní a zpřehlední naše úvodní transformace. Využijme k tomu třídního dekorátoru `dataclass` z balíčku `dataclasses`."
   ]
  },
  {
   "cell_type": "code",
   "execution_count": 4,
   "id": "93e00c8f-8a74-45ab-909e-d5c5300d88ff",
   "metadata": {},
   "outputs": [],
   "source": [
    "@dataclass\n",
    "class Movie:\n",
    "    movie_id: str\n",
    "    name: str\n",
    "    year: int\n",
    "    genres: list[str]\n",
    "\n",
    "    def is_of_genre(self, genre: str) -> bool:\n",
    "        return genre in self.genres"
   ]
  },
  {
   "cell_type": "code",
   "execution_count": 5,
   "id": "3f81c438-845e-47b7-9c21-7478dded8c3b",
   "metadata": {},
   "outputs": [
    {
     "name": "stdout",
     "output_type": "stream",
     "text": [
      "Movie(movie_id='64d2a7963b7afeb6a7ff6b70', name='Vykoupení z věznice Shawshank', year=1994, genres=['Drama', 'Krimi', 'Vězení'])\n",
      "Movie(movie_id='64d2a7f53b7afeb6a7ff6b77', name='Nedotknutelní', year=2011, genres=['Komedie', 'Drama', 'Životopisný'])\n",
      "Movie(movie_id='64d2b5d6aacb468a3ff1a9a8', name='Kmotr', year=1972, genres=['Drama', 'Krimi'])\n"
     ]
    }
   ],
   "source": [
    "movies = []\n",
    "\n",
    "def process_genres(genres_str: str) -> list[str]:\n",
    "    return [genre.strip() for genre in genres_str.split(\"/\")]\n",
    "\n",
    "for movie in movies_data:\n",
    "    movies.append(\n",
    "        Movie(\n",
    "            movie_id=movie[\"_id\"],\n",
    "            name=movie[\"name\"],\n",
    "            year=movie[\"year\"],\n",
    "            genres=process_genres(movie[\"genres\"])\n",
    "        )\n",
    "    )\n",
    "\n",
    "for movie in movies[:3]:\n",
    "    print(movie)"
   ]
  },
  {
   "cell_type": "markdown",
   "id": "ed0b09cc-de3e-4177-a89a-b998aebeedce",
   "metadata": {},
   "source": [
    "## Předzpracování dat\n",
    "\n",
    "V této části si naše data předzpracujeme do podoby, ve které s nimi budeme pracovat. Filmy zde budeme chápat jako n-tice toho, co se nám bude pro doporučování hodit. \n",
    "\n",
    "V našem případě budeme hledat podobné filmy na základě žánrů. K tomu budeme potřebovat mít pro každý film základní popisné údaje (ID a název) a množinu žánrů, kterých daný film je; ideálně v číselné podobě, takže musíme tyto žánry (kategoriální hodnoty) převést na čísla.\n",
    "\n",
    "Chápejme tedy nyní filmy coby řádky v tabulce, kde ve sloupečcích kromě popisných údajů najdeme sloupečky číselně vyjadřující, zda je film daného žánru či nikoliv. Jinými slovy, každý film bude mít přiřazen seznam hodnot vyjadřující pro daný sloupeček zda jde o film daného žánru (`1`) či nikoliv (`0`).\n",
    "\n",
    "\n",
    "### Příklad\n",
    "\n",
    "Filmy `Vykoupení z věznice Shawshang` a `Nedotknutelní` bychom mohli chápat následovně:\n",
    "\n",
    "```js\n",
    "[\n",
    "    {\n",
    "        '_id': '64d2a7963b7afeb6a7ff6b70',\n",
    "        'name': 'Vykoupení z věznice Shawshank',\n",
    "        'genres': ['Drama', 'Krimi', 'Vězení']\n",
    "    },\n",
    "    {\n",
    "        '_id': '64d2a7f53b7afeb6a7ff6b77',\n",
    "        'name': 'Nedotknutelní',\n",
    "        'genres': ['Komedie', 'Drama', 'Životopisný']\n",
    "    }\n",
    "]\n",
    "```\n",
    "\n",
    "Po zpracování bychom očekávali něco podobného tomuto:\n",
    "\n",
    "| ID | Název | Akční | Drama | Krimi | Komedie | Vězení | Životopisný |\n",
    "| --- | --- | --- | --- | --- | --- | --- | --- |\n",
    "| 64d2a7963b7afeb6a7ff6b70 | Vykoupení z věznice Shawshank | 0 | 1 | 1 | 0 | 1 | 0 |\n",
    "| 64d2a7f53b7afeb6a7ff6b77 | Nedotknutelní | 0 | 1 | 0 | 1 | 0 | 1 |\n",
    "\n",
    "\n",
    "\n",
    "Tento princip převodu kategoriálních hodnot na numerické lze najít pod heslem _one-hot encoding_."
   ]
  },
  {
   "cell_type": "markdown",
   "id": "4936d6f3-813b-4ef4-a43e-7cc91ffb980a",
   "metadata": {},
   "source": [
    "Pro tyto účely se nám bude hodit si předpočítat (resp. zjistit) všechny žánry, které se mezi našimi filmy objevují."
   ]
  },
  {
   "cell_type": "code",
   "execution_count": 6,
   "id": "25ac834b-19be-4806-9294-f487901a772b",
   "metadata": {},
   "outputs": [],
   "source": [
    "genres = []\n",
    "\n",
    "for movie in movies:\n",
    "    for genre in movie.genres:\n",
    "        genres.append(genre)\n",
    "\n",
    "genres = list(set(genres))"
   ]
  },
  {
   "cell_type": "markdown",
   "id": "370c5764-e36c-48d8-b6fc-ccd571d7cff0",
   "metadata": {},
   "source": [
    "Zde provedeme samotné převedení filmů do námi požadované podoby."
   ]
  },
  {
   "cell_type": "code",
   "execution_count": 7,
   "id": "aa3ead20-90cd-409b-bd08-9aed1fc0d6c1",
   "metadata": {},
   "outputs": [
    {
     "name": "stdout",
     "output_type": "stream",
     "text": [
      "('64d2a7963b7afeb6a7ff6b70', 'Vykoupení z věznice Shawshank', 0, 0, 1, 0, 0, 0, 0, 0, 0, 0, 0, 0, 0, 0, 0, 0, 0, 0, 0, 0, 0, 1, 0, 0, 0, 0, 0, 0, 0, 0, 0, 0, 0, 0, 0, 1, 0, 0, 0, 0)\n",
      "('64d2a7f53b7afeb6a7ff6b77', 'Nedotknutelní', 0, 0, 0, 0, 0, 0, 0, 0, 0, 0, 0, 0, 0, 0, 0, 0, 1, 0, 0, 0, 0, 0, 0, 0, 0, 0, 0, 0, 0, 0, 0, 0, 0, 0, 1, 1, 0, 0, 0, 0)\n",
      "('64d2b5d6aacb468a3ff1a9a8', 'Kmotr', 0, 0, 1, 0, 0, 0, 0, 0, 0, 0, 0, 0, 0, 0, 0, 0, 0, 0, 0, 0, 0, 0, 0, 0, 0, 0, 0, 0, 0, 0, 0, 0, 0, 0, 0, 1, 0, 0, 0, 0)\n",
      "('64d2bb9c22e576367f7b1f7a', 'Pelíšky', 0, 0, 0, 0, 0, 0, 0, 0, 0, 0, 1, 0, 0, 0, 0, 0, 1, 0, 0, 0, 0, 0, 0, 0, 0, 0, 0, 0, 0, 0, 0, 0, 0, 0, 0, 1, 0, 0, 0, 0)\n",
      "('64d528fa4ff07304e7d604e0', 'Forrest Gump', 0, 0, 0, 0, 0, 0, 0, 0, 0, 0, 0, 0, 0, 0, 0, 0, 1, 0, 0, 0, 0, 0, 0, 0, 0, 0, 0, 0, 0, 0, 0, 0, 0, 0, 0, 1, 0, 0, 0, 0)\n"
     ]
    }
   ],
   "source": [
    "def transform_movie_genre_to_number(movie: Movie, genre: str) -> int:\n",
    "    \"\"\"Převede žánr pro daný film na číslo. Pokud je daný film \n",
    "    daného žánru, vrací 1, jinak 0.\"\"\"\n",
    "    return 1 if movie.is_of_genre(genre) else 0\n",
    "\n",
    "\n",
    "def movie_to_tuple(movie: Movie) -> tuple:\n",
    "    \"\"\"Převádí dodaný film na n-tici\"\"\"\n",
    "    return tuple([\n",
    "        movie.movie_id,\n",
    "        movie.name,\n",
    "\n",
    "        # Vrací se nám seznam čísel, my ho chceme rozprostřít, \n",
    "        # proto použijeme hvězdičkový operátor před získanou kolekcí\n",
    "        *[transform_movie_genre_to_number(movie, genre) for genre in genres]\n",
    "    ])\n",
    "\n",
    "movie_tuples = [movie_to_tuple(movie) for movie in movies]\n",
    "\n",
    "for movie_tuple in movie_tuples[:5]:\n",
    "    print(movie_tuple)"
   ]
  },
  {
   "cell_type": "markdown",
   "id": "278efd17-bedd-4eb3-81da-d0772cee4e9a",
   "metadata": {},
   "source": [
    "### Mechanismy výpočtu podobnosti\n",
    "\n",
    "Nyní se podívejme na mechanismy, pomocí kterých budeme počítat podobnost filmů. Jak je vidět z předchozího výpisu, filmy jsme si převedli do číselné podoby (tedy co se žánrů týče). Idea, se kterou budeme pracovat je, že tyto filmy pak jsou pro nás vlastně body v `n`-dimenzionálním prostoru, kde `n` odpovídá počtu všech žánrů napříč všemi filmy.\n",
    "\n",
    "Na základě toho nám pak stačí počítat vzdálenosti mezi dvěma filmy (tedy body) a vyhledat ten nejpodobnější. K tomu použijeme následující dvě metriky:\n",
    "\n",
    "- Euklidovská\n",
    "- Kosínová"
   ]
  },
  {
   "cell_type": "markdown",
   "id": "0ee73a44-42bc-423b-a15e-d5fef83ea3f9",
   "metadata": {},
   "source": [
    "Euklidovská vzdálenost je základní metrikou, kterou můžeme použít pro počítání rozdílů mezi dvěma body v `n`-dimenzionálním prostoru. Využijeme následující vzorec, který lze snadno odvodit z pythagorovy věty pro použití v `n`-dimenzionálním prostoru:\n",
    "\n",
    "$$d_{euklid} = \\sqrt{(x_1 - y_1)^2 + (x_2 - y_2)^2 + \\ldots + (x_n - y_n)^2}$$\n",
    "\n",
    "\n",
    "Pomocí tohoto vzorce jsme schopni spočítat, že některé filmy jsou si podobné na základě žánrů."
   ]
  },
  {
   "cell_type": "code",
   "execution_count": 8,
   "id": "bc7086e1-012e-4d6b-922c-082ff6a7e442",
   "metadata": {},
   "outputs": [],
   "source": [
    "def euclidean_distance(point1: tuple[float], point2: tuple[float]) -> float:\n",
    "    \"\"\"Spočítá euklidovskou vzdálenost mezi dvěma mnohadimenzionálními body.\n",
    "    Pokud body nejsou stejné dimenzionality, vyhazuje chybu.\n",
    "    \"\"\"\n",
    "    if len(point1) != len(point2):\n",
    "        raise ValueError(f\"Body musí být stejné dimenzionality: {len(point1)} != {len(point2)}\")\n",
    "\n",
    "    differences = []\n",
    "    # Pro každou dimenzi\n",
    "    for idx, value_in_dim in enumerate(point1):\n",
    "        # Přidej absolutní rozdíl mezi hodnotami v dimenzi\n",
    "        differences.append(abs(value_in_dim - point2[idx]))\n",
    "\n",
    "    # Převeď absolutní rozdíly na své druhé mocniny\n",
    "    squared_differences = [diff ** 2 for diff in differences]\n",
    "\n",
    "    # Odmocni umocněné rozdíly\n",
    "    return sum(squared_differences) ** 0.5"
   ]
  },
  {
   "cell_type": "markdown",
   "id": "858d283b-6015-4ec8-a446-c86980c84679",
   "metadata": {},
   "source": [
    "Kosínová vzdálenost je druhou významnou metrikou, která nám dokáže spočítátat podobnost dvou bodů v `n`-dimenzionálním prostoru. Pracuje s úhlem, který dva dané vektory vzájemně svírají.\n",
    "\n",
    "Vzorec pro kosínovu větu říká, že je-li úhel svíraný mezi danými dvěma vektory nulový, návratová hodnota bude `1`. Samotný vzorec pak vypadá následovně:\n",
    "\n",
    "$$cos(\\phi) = \\frac{\\vec{u} \\cdot \\vec{v}}{|\\vec{u}| \\cdot |\\vec{v}|}$$\n",
    "\n",
    "\n",
    "My z tohoto pravidla vyjdeme a trochu si vzoreček pro potřeby výpočtu této vzdálenosti (_i.e._ podobnosti) upravíme:\n",
    "\n",
    "$$d_{cosine} = 1 - \\frac{\\vec{u} \\cdot \\vec{v}}{|\\vec{u}| \\cdot |\\vec{v}|}$$\n",
    "\n",
    "\n",
    "Tím zajistíme, že čím menší velikost svíraného úhlu, tím více se výsledná hodnota blíží nule. Zároveň zde máme z povahy řešeného problému garantováno, že nedojde k extrémním situacím:\n",
    "- pracujeme v I. kvadrantu (svíraný úhel nemůže být větší než 90°)\n",
    "- neexistuje film bez přiřazeného žánru (neexistuje tedy nulový vektor a tedy nenastane situace, kdy bychom dělili nulou)\n",
    "\n",
    "Dané body můžeme chápat jako vektory od počátku k danému bodu. Tím získáme výhodu, že jsou-li vektory lineárně závislé (ve zkratce že leží na stejné přímce, resp. $k \\cdot \\vec{u} = \\vec{v}$), bude vzdálenost mezi nimi chápána jako 0 (tedy totožné). Samozřejmě zde můžeme zobecnit tezi na *\"čím menší úhel dva libovolně velké vektory svírají, tím jsou si podobnější\"*."
   ]
  },
  {
   "cell_type": "code",
   "execution_count": 9,
   "id": "d7bd1ba5-19aa-47e7-817d-b29efdb8d35f",
   "metadata": {},
   "outputs": [],
   "source": [
    "def cosine_distance(u: tuple[float], v: tuple[float]) -> float:\n",
    "    \"\"\"Spočítá kosínovou vzdálenost mezi dvěma mnohadimenzionálními vektory.\n",
    "    Pokud vektory nejsou stejné dimenzionality, vyhazuje chybu. Stejně tak pokud\n",
    "    je některý z vektorů tzv. nulový (o nulové délce) - dělili bychom nulou.\n",
    "    \"\"\"\n",
    "    if len(u) != len(v):\n",
    "        raise ValueError(f\"Vektory musí být stejné dimenzionality: {len(u)} != {len(v)}\")\n",
    "\n",
    "    # Nejdříve si spočteme čitatele - součin dvou vektorů (tzv. dot product)\n",
    "    dot_product = sum(u_n * v_n for u_n, v_n in zip(u, v))\n",
    "\n",
    "    # Připravíme si pomocnou funkci pro výpočet délky vektoru (pomocí pythagorovy věty)\n",
    "    vector_lenght = lambda vector: sum(x ** 2 for x in vector) ** 0.5\n",
    "\n",
    "    u_len = vector_lenght(u)\n",
    "    v_len = vector_lenght(v)\n",
    "\n",
    "    if u_len == 0 or v_len == 0:\n",
    "        raise ValueError(f\"Byl dodán nulový vektor\")\n",
    "\n",
    "    return 1 - (dot_product / (u_len * v_len))"
   ]
  },
  {
   "cell_type": "markdown",
   "id": "c6e50211-c22b-409a-bcc2-0cdd61abc02f",
   "metadata": {},
   "source": [
    "## Zpracování dat"
   ]
  },
  {
   "cell_type": "markdown",
   "id": "f694f6b0-caf9-485f-b996-563b8e770c39",
   "metadata": {},
   "source": [
    "### Párování dvojic"
   ]
  },
  {
   "cell_type": "code",
   "execution_count": 10,
   "id": "89724803-9b9e-4966-9838-224ef5f17d94",
   "metadata": {},
   "outputs": [],
   "source": [
    "def couple_movies(movies_to_be_couples: list[tuple]) -> list[tuple[tuple, tuple]]:\n",
    "    \"\"\"Tato funkce vrátí všechny dvojice filmů.\"\"\"\n",
    "    couples = []\n",
    "\n",
    "    for movie1 in movies_to_be_couples:\n",
    "        for movie2 in movies_to_be_couples:\n",
    "            # Přeskoč, pokud jde o ten samý film, jinak přidej dvojici\n",
    "            if movie1 != movie2:\n",
    "                couples.append((movie1, movie2))\n",
    "\n",
    "    return couples"
   ]
  },
  {
   "cell_type": "code",
   "execution_count": 11,
   "id": "ae308ebf-519a-4bcf-87d1-6c1c6588732a",
   "metadata": {},
   "outputs": [
    {
     "name": "stdout",
     "output_type": "stream",
     "text": [
      "(('64d2a7963b7afeb6a7ff6b70', 'Vykoupení z věznice Shawshank', 0, 0, 1, 0, 0, 0, 0, 0, 0, 0, 0, 0, 0, 0, 0, 0, 0, 0, 0, 0, 0, 1, 0, 0, 0, 0, 0, 0, 0, 0, 0, 0, 0, 0, 0, 1, 0, 0, 0, 0), ('64d2a7f53b7afeb6a7ff6b77', 'Nedotknutelní', 0, 0, 0, 0, 0, 0, 0, 0, 0, 0, 0, 0, 0, 0, 0, 0, 1, 0, 0, 0, 0, 0, 0, 0, 0, 0, 0, 0, 0, 0, 0, 0, 0, 0, 1, 1, 0, 0, 0, 0))\n",
      "(('64d2a7963b7afeb6a7ff6b70', 'Vykoupení z věznice Shawshank', 0, 0, 1, 0, 0, 0, 0, 0, 0, 0, 0, 0, 0, 0, 0, 0, 0, 0, 0, 0, 0, 1, 0, 0, 0, 0, 0, 0, 0, 0, 0, 0, 0, 0, 0, 1, 0, 0, 0, 0), ('64d2b5d6aacb468a3ff1a9a8', 'Kmotr', 0, 0, 1, 0, 0, 0, 0, 0, 0, 0, 0, 0, 0, 0, 0, 0, 0, 0, 0, 0, 0, 0, 0, 0, 0, 0, 0, 0, 0, 0, 0, 0, 0, 0, 0, 1, 0, 0, 0, 0))\n",
      "(('64d2a7963b7afeb6a7ff6b70', 'Vykoupení z věznice Shawshank', 0, 0, 1, 0, 0, 0, 0, 0, 0, 0, 0, 0, 0, 0, 0, 0, 0, 0, 0, 0, 0, 1, 0, 0, 0, 0, 0, 0, 0, 0, 0, 0, 0, 0, 0, 1, 0, 0, 0, 0), ('64d2bb9c22e576367f7b1f7a', 'Pelíšky', 0, 0, 0, 0, 0, 0, 0, 0, 0, 0, 1, 0, 0, 0, 0, 0, 1, 0, 0, 0, 0, 0, 0, 0, 0, 0, 0, 0, 0, 0, 0, 0, 0, 0, 0, 1, 0, 0, 0, 0))\n",
      "(('64d2a7963b7afeb6a7ff6b70', 'Vykoupení z věznice Shawshank', 0, 0, 1, 0, 0, 0, 0, 0, 0, 0, 0, 0, 0, 0, 0, 0, 0, 0, 0, 0, 0, 1, 0, 0, 0, 0, 0, 0, 0, 0, 0, 0, 0, 0, 0, 1, 0, 0, 0, 0), ('64d528fa4ff07304e7d604e0', 'Forrest Gump', 0, 0, 0, 0, 0, 0, 0, 0, 0, 0, 0, 0, 0, 0, 0, 0, 1, 0, 0, 0, 0, 0, 0, 0, 0, 0, 0, 0, 0, 0, 0, 0, 0, 0, 0, 1, 0, 0, 0, 0))\n",
      "(('64d2a7963b7afeb6a7ff6b70', 'Vykoupení z věznice Shawshank', 0, 0, 1, 0, 0, 0, 0, 0, 0, 0, 0, 0, 0, 0, 0, 0, 0, 0, 0, 0, 0, 1, 0, 0, 0, 0, 0, 0, 0, 0, 0, 0, 0, 0, 0, 1, 0, 0, 0, 0), ('64d529194ff07304e7d604e5', 'Zelená Míle', 0, 0, 0, 0, 1, 0, 0, 0, 0, 0, 0, 0, 0, 0, 0, 0, 0, 0, 0, 0, 0, 1, 0, 0, 0, 0, 0, 0, 0, 0, 0, 0, 0, 0, 0, 1, 0, 0, 0, 0))\n"
     ]
    }
   ],
   "source": [
    "movie_couples = couple_movies(movie_tuples)\n",
    "\n",
    "for movie_couple in movie_couples[:5]:\n",
    "    print(movie_couple)"
   ]
  },
  {
   "cell_type": "markdown",
   "id": "8d2c9fc3-b602-4b02-ac5e-63f7a30f72c3",
   "metadata": {},
   "source": [
    "### Prostý výpočet euklidovské vzdálenosti nad filmy\n",
    "\n",
    "V této části si zkusme vytvořit seznam doporučení, který bychom mohli použít. Využijme k tomu data, která jsme si připravili a euklidovskou vzdálenost mezi body."
   ]
  },
  {
   "cell_type": "code",
   "execution_count": 12,
   "id": "0ceacb07-33ef-4553-81a6-d93ead2c5525",
   "metadata": {},
   "outputs": [],
   "source": [
    "def extract_point(movie_tuple: tuple) -> tuple:\n",
    "    \"\"\"Vyfiltruje pouze data reprezentující bod v n-dimenzionálním prostoru,\n",
    "    tedy pouze souřadnice bodu získané z žánrů daného filmu.\"\"\"\n",
    "    return movie_tuple[2:]"
   ]
  },
  {
   "cell_type": "code",
   "execution_count": 13,
   "id": "15d401f6-da60-4562-8715-acebb65836fe",
   "metadata": {},
   "outputs": [],
   "source": [
    "distance_between_movies_plain_euclid = []\n",
    "\n",
    "for movie_couple in movie_couples:\n",
    "    m1_point = extract_point(movie_couple[0])\n",
    "    m2_point = extract_point(movie_couple[1])\n",
    "    \n",
    "    distance_between_movies_plain_euclid.append(\n",
    "        (\n",
    "            # Názvy filmů\n",
    "            movie_couple[0][1],\n",
    "            movie_couple[1][1],\n",
    "\n",
    "            # Euklidovská vzdálenost mezi filmy\n",
    "            euclidean_distance(m1_point, m2_point)\n",
    "        )\n",
    "    )"
   ]
  },
  {
   "cell_type": "code",
   "execution_count": 14,
   "id": "90a3acd4-0957-41f9-a82e-e9a418e0c4fb",
   "metadata": {},
   "outputs": [
    {
     "data": {
      "text/plain": [
       "[('Vykoupení z věznice Shawshank', 'Kult hákového kříže', 0.0),\n",
       " ('Kmotr', 'Dvanáct rozhněvaných mužů', 0.0),\n",
       " ('Kmotr', 'Kmotr II', 0.0),\n",
       " ('Kmotr', 'Leon', 0.0),\n",
       " ('Kmotr', 'L. A. - Přísně tajné', 0.0),\n",
       " ('Kmotr', 'Butch Cassidy a Sundance Kid', 0.0),\n",
       " ('Kmotr', 'Město bohů', 0.0),\n",
       " ('Kmotr', 'Casino', 0.0),\n",
       " ('Kmotr', 'Motýlek', 0.0),\n",
       " ('Kmotr', 'Obvyklí podezřelí', 0.0),\n",
       " ('Kmotr', 'Mafiáni', 0.0),\n",
       " ('Kmotr', 'Tenkrát v Americe', 0.0),\n",
       " ('Kmotr', 'Obchodník se smrtí', 0.0),\n",
       " ('Forrest Gump', 'Podraz', 0.0),\n",
       " ('Forrest Gump', 'Obecná škola', 0.0),\n",
       " ('Forrest Gump', 'Zelená kniha', 0.0),\n",
       " ('Forrest Gump', 'Smrt krásných srnců', 0.0),\n",
       " ('Forrest Gump', 'Kolja', 0.0),\n",
       " ('Forrest Gump', 'Gympl', 0.0),\n",
       " ('Forrest Gump', 'Muž na Měsíci', 0.0)]"
      ]
     },
     "execution_count": 14,
     "metadata": {},
     "output_type": "execute_result"
    }
   ],
   "source": [
    "# 20 nejlepších (nejpodobnějších) dvojic\n",
    "sorted(distance_between_movies_plain_euclid, key=lambda movie: movie[2])[:20]"
   ]
  },
  {
   "cell_type": "code",
   "execution_count": 15,
   "id": "4e8165b5-007a-4c88-816a-9ddb8a199609",
   "metadata": {},
   "outputs": [
    {
     "data": {
      "text/plain": [
       "[('Goldfinger', 'Vzhůru do oblak', 2.0),\n",
       " ('Obvyklí podezřelí', 'Sbal prachy a vypadni', 1.4142135623730951),\n",
       " ('Lara Croft - Tomb Raider', 'Medvěd', 2.23606797749979),\n",
       " ('Mission: Impossible', 'Avatar', 2.0),\n",
       " ('Medvěd', 'Žhavé výstřely', 2.449489742783178),\n",
       " ('Star Trek X: Nemesis', 'Skrytá čísla', 3.0),\n",
       " ('Transformers', 'Život je krásný', 2.8284271247461903),\n",
       " ('Na samotě u lesa', 'Leon', 2.0),\n",
       " ('Dnes neumírej', 'Czech Made Man', 2.8284271247461903),\n",
       " ('Město bohů', 'Císařův pekař - Pekařův císař', 2.23606797749979),\n",
       " ('25 let neviny', 'Kameňák', 1.7320508075688772),\n",
       " ('Jára Cimrman ležící, spící', 'Jak vycvičit draka', 2.0),\n",
       " ('Vesničko má středisková', 'Wolverine', 2.23606797749979),\n",
       " ('Rambo: První krev', 'Maska', 2.449489742783178),\n",
       " ('Podraz', 'Třináct životů', 1.4142135623730951),\n",
       " ('Rychle a zběsile', '300: Bitva u Thermopyl', 2.6457513110645907),\n",
       " ('Coco', 'Star Wars: Epizoda VI - Návrat Jediů', 2.23606797749979),\n",
       " ('Nedotknutelní', 'Dannyho parťáci', 1.7320508075688772),\n",
       " ('Demolition Man', 'Simpsonovi ve filmu', 2.23606797749979),\n",
       " ('Mrazík', 'Čistá duše', 2.449489742783178)]"
      ]
     },
     "execution_count": 15,
     "metadata": {},
     "output_type": "execute_result"
    }
   ],
   "source": [
    "# 20 náhodně vybraných dvojic\n",
    "random.sample(distance_between_movies_plain_euclid, 20)"
   ]
  },
  {
   "cell_type": "markdown",
   "id": "10399dc7-fe09-47cd-8d56-1508ec5bd12d",
   "metadata": {},
   "source": [
    "Z těchto výpisů vidíme, že sice asi rozumíme tomu, proč jsou některé dvojice přiřazeny k sobě, ale ne vždy bychom tyto k sobě přiřadili. Důvodů může být více, například nedostatek dat. Jaká další data by se nám například mohla hodit? \n",
    "- Herci\n",
    "- Země natočení\n",
    "- Rok, v kterém byl film natočen\n",
    "- Více kategorií o daném filmu\n",
    "\n",
    "Všechny tyto atributy bychom mohli přepočítat pomocí výše uvedeného schématu a získali bychom přesnější doporučování.\n",
    "\n",
    "Nicméně, zkusme na to jít ještě dalšími způsoby. Z povahy problému vidíme, že se pohybujeme pouze na vrcholech `n`-dimenzionální kostky o šířce strany `1` (film je nebo není daného žánru). Lze s tím něco udělat?"
   ]
  },
  {
   "cell_type": "markdown",
   "id": "36ec23ff-9672-4f4d-b8cf-1440cd03bbdb",
   "metadata": {},
   "source": [
    "### Vážená euklidovská vzdálenost mezi filmy\n",
    "\n",
    "Nyní uvažujme, že některé žánry mohou mít větší význam než jiné. Co kdybychom použili váhu významu? \n",
    "\n",
    "Jinými slovy, zamysleme se, jestli nese větší informaci fakt, že jsou oba filmy dramata (což je asi nejčastější žánr filmu), či skutečnost, že jsou oba filmy válečné (což je podstatně menší podmnožina snímků). \n",
    "\n",
    "Stejně tak se můžeme zamyslet nad otázkou, zda je-li film čistě komedie, jestli je to pro nás jeho důležitejší rys než když se bavíme o jiném filmu, který je zároveň válečnou muzikální komedií s dramatickými prvky."
   ]
  },
  {
   "cell_type": "markdown",
   "id": "13eafcc2-c661-4131-aff0-ea9838ab08f9",
   "metadata": {},
   "source": [
    "#### Relevance žánru pro film\n",
    "\n",
    "Zaměřme se nyní na druhý přístup, tedy kdy počítáme jak důležitý je daný žánr pro daný film. Zatím si vystačíme s tím, když pro každý žánr daného filmu v naší soustavě nul a jedniček přepočítáme pomocí vzorce:\n",
    "\n",
    "$$\\text{vážený indikátor žánru} = \\frac{\\text{indikátor žánru}}{\\text{počet žánrů filmu}}$$\n",
    "\n",
    "kde:\n",
    "- `indikátor žánru` odpovídá právě dané hodnotě `1` nebo `0` (zda-li film je či není daného žánru)\n",
    "- `počet žánrů filmu` odpovídá počtu přiřazených žánrů k danému filmu"
   ]
  },
  {
   "cell_type": "code",
   "execution_count": 16,
   "id": "ec73f7a8-18a1-4084-9dd5-04e9b8afed2f",
   "metadata": {},
   "outputs": [
    {
     "name": "stdout",
     "output_type": "stream",
     "text": [
      "('64d2a7963b7afeb6a7ff6b70', 'Vykoupení z věznice Shawshank', 0.0, 0.0, 0.3333333333333333, 0.0, 0.0, 0.0, 0.0, 0.0, 0.0, 0.0, 0.0, 0.0, 0.0, 0.0, 0.0, 0.0, 0.0, 0.0, 0.0, 0.0, 0.0, 0.3333333333333333, 0.0, 0.0, 0.0, 0.0, 0.0, 0.0, 0.0, 0.0, 0.0, 0.0, 0.0, 0.0, 0.0, 0.3333333333333333, 0.0, 0.0, 0.0, 0.0)\n",
      "('64d2a7f53b7afeb6a7ff6b77', 'Nedotknutelní', 0.0, 0.0, 0.0, 0.0, 0.0, 0.0, 0.0, 0.0, 0.0, 0.0, 0.0, 0.0, 0.0, 0.0, 0.0, 0.0, 0.3333333333333333, 0.0, 0.0, 0.0, 0.0, 0.0, 0.0, 0.0, 0.0, 0.0, 0.0, 0.0, 0.0, 0.0, 0.0, 0.0, 0.0, 0.0, 0.3333333333333333, 0.3333333333333333, 0.0, 0.0, 0.0, 0.0)\n",
      "('64d2b5d6aacb468a3ff1a9a8', 'Kmotr', 0.0, 0.0, 0.5, 0.0, 0.0, 0.0, 0.0, 0.0, 0.0, 0.0, 0.0, 0.0, 0.0, 0.0, 0.0, 0.0, 0.0, 0.0, 0.0, 0.0, 0.0, 0.0, 0.0, 0.0, 0.0, 0.0, 0.0, 0.0, 0.0, 0.0, 0.0, 0.0, 0.0, 0.0, 0.0, 0.5, 0.0, 0.0, 0.0, 0.0)\n"
     ]
    }
   ],
   "source": [
    "weighted_movies_by_number_of_genres = []\n",
    "\n",
    "for movie_tuple in movie_tuples:\n",
    "    \n",
    "    movie_point = extract_point(movie_tuple)\n",
    "\n",
    "    # Zde jsou jen jedničky a nuly, můžeme je tedy snadno sečíst\n",
    "    number_of_genres = sum(movie_point)\n",
    "\n",
    "    # Přepočteme dané souřadnice\n",
    "    movie_point = [(value / number_of_genres) for value in movie_point]\n",
    "\n",
    "    # Uložíme do připraveného seznamu\n",
    "    weighted_movies_by_number_of_genres.append(\n",
    "        (\n",
    "            movie_tuple[0],\n",
    "            movie_tuple[1],\n",
    "            *movie_point\n",
    "        )\n",
    "    )\n",
    "\n",
    "for weighted in weighted_movies_by_number_of_genres[:3]:\n",
    "    print(weighted)"
   ]
  },
  {
   "cell_type": "code",
   "execution_count": 17,
   "id": "d8f8832e-d2fa-4520-8638-cbf42fa734ca",
   "metadata": {},
   "outputs": [],
   "source": [
    "weighted_movies_by_number_of_genres_euclid = []\n",
    "\n",
    "for movie_couple in couple_movies(weighted_movies_by_number_of_genres):\n",
    "    m1_point = extract_point(movie_couple[0])\n",
    "    m2_point = extract_point(movie_couple[1])\n",
    "    \n",
    "    weighted_movies_by_number_of_genres_euclid.append(\n",
    "        (\n",
    "            # Názvy filmů\n",
    "            movie_couple[0][1],\n",
    "            movie_couple[1][1],\n",
    "\n",
    "            # Euklidovská vzdálenost mezi filmy\n",
    "            euclidean_distance(m1_point, m2_point)\n",
    "        )\n",
    "    )"
   ]
  },
  {
   "cell_type": "code",
   "execution_count": 18,
   "id": "1f0103d7-e6eb-454d-ac15-6f2b935f29e4",
   "metadata": {},
   "outputs": [
    {
     "data": {
      "text/plain": [
       "[('Vykoupení z věznice Shawshank', 'Kult hákového kříže', 0.0),\n",
       " ('Kmotr', 'Dvanáct rozhněvaných mužů', 0.0),\n",
       " ('Kmotr', 'Kmotr II', 0.0),\n",
       " ('Kmotr', 'Leon', 0.0),\n",
       " ('Kmotr', 'L. A. - Přísně tajné', 0.0),\n",
       " ('Kmotr', 'Butch Cassidy a Sundance Kid', 0.0),\n",
       " ('Kmotr', 'Město bohů', 0.0),\n",
       " ('Kmotr', 'Casino', 0.0),\n",
       " ('Kmotr', 'Motýlek', 0.0),\n",
       " ('Kmotr', 'Obvyklí podezřelí', 0.0),\n",
       " ('Kmotr', 'Mafiáni', 0.0),\n",
       " ('Kmotr', 'Tenkrát v Americe', 0.0),\n",
       " ('Kmotr', 'Obchodník se smrtí', 0.0),\n",
       " ('Forrest Gump', 'Podraz', 0.0),\n",
       " ('Forrest Gump', 'Obecná škola', 0.0),\n",
       " ('Forrest Gump', 'Zelená kniha', 0.0),\n",
       " ('Forrest Gump', 'Smrt krásných srnců', 0.0),\n",
       " ('Forrest Gump', 'Kolja', 0.0),\n",
       " ('Forrest Gump', 'Gympl', 0.0),\n",
       " ('Forrest Gump', 'Muž na Měsíci', 0.0)]"
      ]
     },
     "execution_count": 18,
     "metadata": {},
     "output_type": "execute_result"
    }
   ],
   "source": [
    "# 20 nejlepších (nejpodobnějších) dvojic\n",
    "sorted(weighted_movies_by_number_of_genres_euclid, key=lambda movie: movie[2])[:20]"
   ]
  },
  {
   "cell_type": "code",
   "execution_count": 19,
   "id": "21a3958c-a2b6-4958-b5cc-2e9267520979",
   "metadata": {},
   "outputs": [
    {
     "data": {
      "text/plain": [
       "[('Black Panther', 'Četa', 0.8660254037844386),\n",
       " ('Mamma Mia!', 'Million Dollar Baby', 0.9128709291752768),\n",
       " ('Poklad na Stříbrném jezeře', 'Vynález zkázy', 0.7071067811865476),\n",
       " ('Casino', 'Americký gangster', 0.5477225575051662),\n",
       " ('Auta', 'Temný rytíř povstal', 0.6708203932499369),\n",
       " ('Poslušně hlásím', 'Warrior', 1.0),\n",
       " ('Nespoutaný Django', 'Iluzionista', 0.8660254037844386),\n",
       " ('Počátek', 'Teorie všeho', 0.8660254037844386),\n",
       " ('Tanec s vlky', 'Pianista', 0.7071067811865476),\n",
       " ('Maska', '25 let neviny', 0.8366600265340756),\n",
       " ('Sbal prachy a vypadni', 'Monty Python a Svatý Grál', 1.0),\n",
       " ('Slunce, seno a pár facek', 'Na samotě u lesa', 0.7071067811865476),\n",
       " ('Kladivo na čarodějnice', 'L. A. - Přísně tajné', 0.7071067811865476),\n",
       " ('300: Bitva u Thermopyl', 'Pelíšky', 0.7637626158259733),\n",
       " ('Čtyři pokoje', 'Kult hákového kříže', 0.9128709291752769),\n",
       " ('Havel', 'John Wick', 0.7637626158259733),\n",
       " ('Úžasňákovi', 'Ace Ventura 2: Volání divočiny', 0.6172133998483678),\n",
       " ('Sám doma', 'Interstellar', 0.9128709291752769),\n",
       " ('Jáchyme, hoď ho do stroje!', 'Prezident Blaník', 0.0),\n",
       " ('Odpočítávání', 'Šestý smysl', 0.5)]"
      ]
     },
     "execution_count": 19,
     "metadata": {},
     "output_type": "execute_result"
    }
   ],
   "source": [
    "# 20 náhodně vybraných dvojic\n",
    "random.sample(weighted_movies_by_number_of_genres_euclid, 20)"
   ]
  },
  {
   "cell_type": "markdown",
   "id": "d6649ae1-749a-4d41-8243-a101c78ed8be",
   "metadata": {},
   "source": [
    "Zde si můžeme všimnout, že dvojice filmů, které mají stejnou skladbu žánrů zůstávají stabilně ve svém určení (tedy `distance=0.0`). Změnily se však ty, které stejné žánry nemají. To není neočekávané chování - podle tohoto principu totiž je vlastně jedno, jaké váhy použiji (ve výchozím nastavení `weight=1`), protože vždy bude výsledek stejný. Liší se právě tam, když některému filmu nějaký ten žánr chybí.\n",
    "\n",
    "Tomuto se říká tzv. _perfect match_. Pro nás to ale stále není zcela dokonalé, protože jsme naše doporučování nijak nezlepšili v kontextu množiny, která nás zajímá (tedy ty skutečně nejpodobnější filmy). Opět, bariérou pro nás v této ukázce je nedostatek dat."
   ]
  },
  {
   "cell_type": "markdown",
   "id": "0681f610-95b6-43fa-b11c-79293de7d175",
   "metadata": {},
   "source": [
    "### Prostá Kosínová podobnost filmů\n",
    "\n",
    "Zkusme si nyní představit, že nepracujeme s euklidovskou vzdáleností (s body), nýbrž s vektory. Jak je uvedeno výše, bod můžeme vesele zaměnit za vektor mezi počátkem soustavy souřadnic a právě daným bodem. \n",
    "\n",
    "Pak můžeme chápat dva filmy jako vektory v nám známém `n`-rozměrném prostoru a můžeme počítat podobnost těchto vektorů přes vzájemně svíraný úhel. Čím menší úhel je mezi těmito vektory, tím podobnější tyto filmy jsou."
   ]
  },
  {
   "cell_type": "code",
   "execution_count": 20,
   "id": "1b7c9dfb-2c34-4f26-9687-4e1676182b40",
   "metadata": {},
   "outputs": [],
   "source": [
    "distance_between_movies_plain_cosine = []\n",
    "\n",
    "for movie_couple in movie_couples:\n",
    "    m1_point = extract_point(movie_couple[0])\n",
    "    m2_point = extract_point(movie_couple[1])\n",
    "    \n",
    "    distance_between_movies_plain_cosine.append(\n",
    "        (\n",
    "            # Názvy filmů\n",
    "            movie_couple[0][1],\n",
    "            movie_couple[1][1],\n",
    "\n",
    "            # Kosínová vzdálenost mezi filmy\n",
    "            cosine_distance(m1_point, m2_point)\n",
    "        )\n",
    "    )"
   ]
  },
  {
   "cell_type": "code",
   "execution_count": 21,
   "id": "f0ff2129-dab0-45cb-bec0-d1d9d7a2e39c",
   "metadata": {},
   "outputs": [
    {
     "data": {
      "text/plain": [
       "[('Vykoupení z věznice Shawshank',\n",
       "  'Kult hákového kříže',\n",
       "  -2.220446049250313e-16),\n",
       " ('Pulp Fiction: Historky z podsvětí',\n",
       "  'Zjizvená tvář',\n",
       "  -2.220446049250313e-16),\n",
       " ('Dobyvatelé ztracené archy',\n",
       "  'Indiana Jones a Poslední křížová výprava',\n",
       "  -2.220446049250313e-16)]"
      ]
     },
     "execution_count": 21,
     "metadata": {},
     "output_type": "execute_result"
    }
   ],
   "source": [
    "# 20 nejlepších (nejpodobnějších) dvojic\n",
    "sorted(distance_between_movies_plain_cosine, key=lambda movie: movie[2])[:3]"
   ]
  },
  {
   "cell_type": "markdown",
   "id": "1daecea9-ca2d-4854-aa92-76da085f3f01",
   "metadata": {},
   "source": [
    "Kvůli zaokrouhlovacím chybám dostáváme poněkud zvláštní výsledky. Asi se shodneme na tom, že bude snazší takto malá čísla považovat za hodnotu `0.0`"
   ]
  },
  {
   "cell_type": "code",
   "execution_count": 22,
   "id": "0f29cb3f-c654-4491-b1e6-96f9772acf54",
   "metadata": {},
   "outputs": [],
   "source": [
    "def normalize_to_zero(value: float, tolerance: float = 1e-15) -> float:\n",
    "    \"\"\"Převede příliš malá čísla na nulu (0.0).\"\"\"\n",
    "    if abs(value) < tolerance:\n",
    "        return 0.0\n",
    "    return value"
   ]
  },
  {
   "cell_type": "code",
   "execution_count": 23,
   "id": "8d7fa56b-7bb6-43d4-8acd-50b7085b5232",
   "metadata": {
    "scrolled": true
   },
   "outputs": [
    {
     "data": {
      "text/plain": [
       "[('Vykoupení z věznice Shawshank', 'Kult hákového kříže', 0.0),\n",
       " ('Kmotr', 'Dvanáct rozhněvaných mužů', 0.0),\n",
       " ('Kmotr', 'Kmotr II', 0.0),\n",
       " ('Kmotr', 'Leon', 0.0),\n",
       " ('Kmotr', 'L. A. - Přísně tajné', 0.0),\n",
       " ('Kmotr', 'Butch Cassidy a Sundance Kid', 0.0),\n",
       " ('Kmotr', 'Město bohů', 0.0),\n",
       " ('Kmotr', 'Casino', 0.0),\n",
       " ('Kmotr', 'Motýlek', 0.0),\n",
       " ('Kmotr', 'Obvyklí podezřelí', 0.0),\n",
       " ('Kmotr', 'Mafiáni', 0.0),\n",
       " ('Kmotr', 'Tenkrát v Americe', 0.0),\n",
       " ('Kmotr', 'Obchodník se smrtí', 0.0),\n",
       " ('Forrest Gump', 'Podraz', 0.0),\n",
       " ('Forrest Gump', 'Obecná škola', 0.0),\n",
       " ('Forrest Gump', 'Zelená kniha', 0.0),\n",
       " ('Forrest Gump', 'Smrt krásných srnců', 0.0),\n",
       " ('Forrest Gump', 'Kolja', 0.0),\n",
       " ('Forrest Gump', 'Gympl', 0.0),\n",
       " ('Forrest Gump', 'Muž na Měsíci', 0.0)]"
      ]
     },
     "execution_count": 23,
     "metadata": {},
     "output_type": "execute_result"
    }
   ],
   "source": [
    "distance_between_movies_plain_cosine = [(c[0], c[1], normalize_to_zero(c[2])) for c in distance_between_movies_plain_cosine]\n",
    "\n",
    "# 20 nejlepších (nejpodobnějších) dvojic\n",
    "sorted(distance_between_movies_plain_cosine, key=lambda movie: movie[2])[:20]"
   ]
  },
  {
   "cell_type": "code",
   "execution_count": 24,
   "id": "1bad2066-5937-4a84-9a49-c1fb48e0a377",
   "metadata": {},
   "outputs": [
    {
     "data": {
      "text/plain": [
       "[('Pátý element', 'Jáchyme, hoď ho do stroje!', 0.6220355269907728),\n",
       " ('Predátor', 'Leon', 1.0),\n",
       " ('Dnes neumírej', 'Kmotr II', 0.683772233983162),\n",
       " ('Indiana Jones a Poslední křížová výprava', 'Zjizvená tvář', 1.0),\n",
       " ('Taxi', 'Anděl Páně', 1.0),\n",
       " ('Venom', 'Smrtonosná zbraň', 0.683772233983162),\n",
       " ('Čtyři pokoje', 'Mamma Mia!', 0.5917517095361371),\n",
       " ('Thor', 'Gran Torino', 1.0),\n",
       " ('E.T. - Mimozemšťan', 'Méďa', 1.0),\n",
       " ('Dannyho parťáci', 'Slunce, seno a pár facek', 0.29289321881345254),\n",
       " ('12 opic', 'Na samotě u lesa', 1.0),\n",
       " ('Sociální síť', 'Vlasy', 1.0),\n",
       " ('Slavnosti sněženek', 'Letec', 1.0),\n",
       " ('Vejška', 'Slavnosti sněženek', 0.0),\n",
       " ('Texaský masakr motorovou pilou', 'Poklad na Stříbrném jezeře', 1.0),\n",
       " ('Total Recall', 'Maska', 0.7418011102528389),\n",
       " ('Zelená Míle', 'T2 Trainspotting', 0.5917517095361371),\n",
       " ('Nelítostný souboj', 'Dokonalý trik', 1.0),\n",
       " ('Jáchyme, hoď ho do stroje!', 'Amélie z Montmartru', 0.42264973081037416),\n",
       " ('Trainspotting', 'Kokosy na sněhu', 0.7113248654051871)]"
      ]
     },
     "execution_count": 24,
     "metadata": {},
     "output_type": "execute_result"
    }
   ],
   "source": [
    "# 20 náhodně vybraných dvojic\n",
    "random.sample(distance_between_movies_plain_cosine, 20)"
   ]
  },
  {
   "cell_type": "markdown",
   "id": "c05b2ef1-3bc2-4925-a4be-1ea6f50b0911",
   "metadata": {},
   "source": [
    "V zásadě lze říci, že dvojice filmů, které nemají nic společného, jsou ohodnoceny číslem `1`. Čím více jsou si podobné (vektory svírají ostřejší úhel), tím blíže se jejich podobnost dostává hodnotě `0`. Opět, nevyřešili jsme problém s filmy, které mají stejné kategorie, ale dostáváme poněkud bližší vhled do celkové podobnosti.\n",
    "\n",
    "Důvodem je například i fakt, že máme-li dva filmy `[Akční, Drama]` a `[Akční, Drama, Komedie]`, cítíme, že rozdíl nám tam dělá právě ta `Komedie` - jen a pouze ta. A z povahy věci také tušíme, že čím více těchto společných kategorií bude, tím méně bude výsledný úhel ovlivňen."
   ]
  },
  {
   "cell_type": "markdown",
   "id": "4c290b93-b92f-4978-9964-e698415fee7a",
   "metadata": {},
   "source": [
    "### Vážená kosínová vzdálenost nad filmy\n",
    "\n",
    "Nyní zkusme pro úplnost analogicky to samé vážení, co jsme provedli pro euklidovskou vzdálenost."
   ]
  },
  {
   "cell_type": "code",
   "execution_count": 25,
   "id": "e9752f99-eb43-49a1-bb8d-145ffe486e43",
   "metadata": {},
   "outputs": [],
   "source": [
    "weighted_movies_by_number_of_genres_cosine = []\n",
    "\n",
    "for movie_couple in couple_movies(weighted_movies_by_number_of_genres):\n",
    "    m1_point = extract_point(movie_couple[0])\n",
    "    m2_point = extract_point(movie_couple[1])\n",
    "    \n",
    "    weighted_movies_by_number_of_genres_cosine.append(\n",
    "        (\n",
    "            # Názvy filmů\n",
    "            movie_couple[0][1],\n",
    "            movie_couple[1][1],\n",
    "\n",
    "            # Euklidovská vzdálenost mezi filmy\n",
    "            cosine_distance(m1_point, m2_point)\n",
    "        )\n",
    "    )"
   ]
  },
  {
   "cell_type": "code",
   "execution_count": 26,
   "id": "7b3a334a-69f2-44bc-911e-67f93081756b",
   "metadata": {},
   "outputs": [
    {
     "data": {
      "text/plain": [
       "[('Vykoupení z věznice Shawshank', 'Kult hákového kříže', 0.0),\n",
       " ('Kmotr', 'Dvanáct rozhněvaných mužů', 0.0),\n",
       " ('Kmotr', 'Kmotr II', 0.0),\n",
       " ('Kmotr', 'Leon', 0.0),\n",
       " ('Kmotr', 'L. A. - Přísně tajné', 0.0),\n",
       " ('Kmotr', 'Butch Cassidy a Sundance Kid', 0.0),\n",
       " ('Kmotr', 'Město bohů', 0.0),\n",
       " ('Kmotr', 'Casino', 0.0),\n",
       " ('Kmotr', 'Motýlek', 0.0),\n",
       " ('Kmotr', 'Obvyklí podezřelí', 0.0),\n",
       " ('Kmotr', 'Mafiáni', 0.0),\n",
       " ('Kmotr', 'Tenkrát v Americe', 0.0),\n",
       " ('Kmotr', 'Obchodník se smrtí', 0.0),\n",
       " ('Forrest Gump', 'Podraz', 0.0),\n",
       " ('Forrest Gump', 'Obecná škola', 0.0),\n",
       " ('Forrest Gump', 'Zelená kniha', 0.0),\n",
       " ('Forrest Gump', 'Smrt krásných srnců', 0.0),\n",
       " ('Forrest Gump', 'Kolja', 0.0),\n",
       " ('Forrest Gump', 'Gympl', 0.0),\n",
       " ('Forrest Gump', 'Muž na Měsíci', 0.0)]"
      ]
     },
     "execution_count": 26,
     "metadata": {},
     "output_type": "execute_result"
    }
   ],
   "source": [
    "weighted_movies_by_number_of_genres_cosine = [(c[0], c[1], normalize_to_zero(c[2])) for c in weighted_movies_by_number_of_genres_cosine]\n",
    "\n",
    "# 20 nejlepších (nejpodobnějších) dvojic\n",
    "sorted(weighted_movies_by_number_of_genres_cosine, key=lambda movie: movie[2])[:20]"
   ]
  },
  {
   "cell_type": "code",
   "execution_count": 27,
   "id": "8a7424a6-ef2b-4533-b03b-20d7aad3b40a",
   "metadata": {},
   "outputs": [
    {
     "data": {
      "text/plain": [
       "[('Policejní akademie', 'Čas probuzení', 1.0),\n",
       " ('The Big Lebowski', 'Pianista', 1.0),\n",
       " ('Samotáři', 'L. A. - Přísně tajné', 0.591751709536137),\n",
       " ('Zachraňte vojína Ryana', 'Transformers', 1.0),\n",
       " ('Přednosta stanice', 'Whiplash', 1.0),\n",
       " ('U pokladny stál...', 'Vrchní, prchni', 0.0),\n",
       " ('Temný rytíř', 'Úžasňákovi', 0.42264973081037427),\n",
       " ('Star Wars: Epizoda VI - Návrat Jediů', 'Mariňák', 1.0),\n",
       " ('Barbie', 'Piráti z Karibiku: Truhla mrtvého muže', 0.42264973081037427),\n",
       " ('Aquaman', 'Muži v černém', 0.7763932022500211),\n",
       " ('Sherlock Holmes: Hra stínů', 'Cesta do pravěku', 0.7642977396044841),\n",
       " ('Rozpuštěný a vypuštěný', 'Sociální síť', 1.0),\n",
       " ('Kung Fu Panda', 'Četník ze Saint Tropez', 0.7113248654051871),\n",
       " ('Whiplash', 'Hodný, zlý a ošklivý', 1.0),\n",
       " ('Team America: Světovej policajt', 'Obchodník se smrtí', 1.0),\n",
       " ('Iron Man', 'Kill Bill', 0.6666666666666667),\n",
       " ('Kokosy na sněhu', 'Rain Man', 1.0),\n",
       " ('Titanic', 'Apollo 13', 0.6666666666666667),\n",
       " ('Pán prstenů: Návrat krále', 'VALL-I', 0.6464466094067263),\n",
       " ('Oppenheimer', 'Občan Havel', 1.0)]"
      ]
     },
     "execution_count": 27,
     "metadata": {},
     "output_type": "execute_result"
    }
   ],
   "source": [
    "# 20 náhodně vybraných dvojic\n",
    "random.sample(weighted_movies_by_number_of_genres_cosine, 20)"
   ]
  },
  {
   "cell_type": "markdown",
   "id": "666b99d2-ec94-4236-8a5f-340ec1dda4ac",
   "metadata": {},
   "source": [
    "## Závěr\n",
    "\n",
    "Cílem bylo zjistit, které filmy spolu souvisí pomocí přístupu předpočítání znalostí o podobných filmech. \n",
    "\n",
    "V praxi by se takto vydolovaných znalostí dalo použít omezením hodnoty podobnosti (například filmy, které jsou vzdálenější než `0.35` nedoporučovat) a nasazením do systému. Jakmile by uživatel projevil zájem o některý film, nám pak stačí vyhledat námi zjištěné podobné snímky a ty dodat jako doporučit.\n",
    "\n",
    "Tento přístup je (jak sami vidíte) velmi jednoduchý a nepříliš výkonově náročný. Nicméně má (alespoň v této ukázce) své výzvy a je silně závislý na tom, jak důsledně pracujeme s atributy položek. \n",
    "\n",
    "Tedy pro zopakování - lepších doporučovacích výsledků bychom dosáhli s větším objemem dat (více filmů, více atributů)."
   ]
  },
  {
   "cell_type": "markdown",
   "id": "1f695306-7e95-4bcc-ab39-19543862097e",
   "metadata": {},
   "source": [
    "## Pro zájemce\n",
    "\n",
    "Zkuste si implementovat vážení filmů pomocí relativní významnosti žánru, tedy že drama (coby jeden z nejčetnějších žánrů) nám dává menší význam než třeba filmy psychologické či válečné."
   ]
  }
 ],
 "metadata": {
  "kernelspec": {
   "display_name": "Python 3 (ipykernel)",
   "language": "python",
   "name": "python3"
  },
  "language_info": {
   "codemirror_mode": {
    "name": "ipython",
    "version": 3
   },
   "file_extension": ".py",
   "mimetype": "text/x-python",
   "name": "python",
   "nbconvert_exporter": "python",
   "pygments_lexer": "ipython3",
   "version": "3.10.12"
  }
 },
 "nbformat": 4,
 "nbformat_minor": 5
}
